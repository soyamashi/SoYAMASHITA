{
  "cells": [
    {
      "cell_type": "markdown",
      "id": "4d5cd462-0ddc-48c0-848c-bc46be0af9fd",
      "metadata": {
        "editable": true,
        "id": "4d5cd462-0ddc-48c0-848c-bc46be0af9fd",
        "tags": []
      },
      "source": [
        "# 第4章: 言語解析\n",
        "\n",
        "問題30から問題35までは、以下の文章`text`（太宰治の『走れメロス』の冒頭部分）に対して、言語解析を実施せよ。問題36から問題39までは、国家を説明した文書群（日本語版ウィキペディア記事から抽出したテキスト群）をコーパスとして、言語解析を実施せよ。"
      ]
    },
    {
      "cell_type": "code",
      "execution_count": 14,
      "id": "7e6766b0-630b-4b78-8312-27e6f8104e7b",
      "metadata": {
        "editable": true,
        "id": "7e6766b0-630b-4b78-8312-27e6f8104e7b",
        "tags": []
      },
      "outputs": [],
      "source": [
        "text = \"\"\"\n",
        "メロスは激怒した。\n",
        "必ず、かの邪智暴虐の王を除かなければならぬと決意した。\n",
        "メロスには政治がわからぬ。\n",
        "メロスは、村の牧人である。\n",
        "笛を吹き、羊と遊んで暮して来た。\n",
        "けれども邪悪に対しては、人一倍に敏感であった。\n",
        "\"\"\""
      ]
    },
    {
      "cell_type": "code",
      "source": [
        "!apt install mecab libmecab-dev mecab-ipadic-utf8 -y\n",
        "!pip install mecab-python3\n",
        "import MeCab\n",
        "\n",
        "# mecabrc の場所を明示（Colabは /etc/mecabrc にある）\n",
        "mecab = MeCab.Tagger(\"-r /etc/mecabrc -Ochasen\")\n",
        "print(mecab.parse(\"私は昨日、図書館へ行って本を読みました。\"))"
      ],
      "metadata": {
        "id": "qokyCZJULu2y",
        "outputId": "3b5de811-a5bf-4b13-f436-9c9ca6d11fdb",
        "colab": {
          "base_uri": "https://localhost:8080/"
        }
      },
      "id": "qokyCZJULu2y",
      "execution_count": 11,
      "outputs": [
        {
          "output_type": "stream",
          "name": "stdout",
          "text": [
            "Reading package lists... Done\n",
            "Building dependency tree... Done\n",
            "Reading state information... Done\n",
            "libmecab-dev is already the newest version (0.996-14build9).\n",
            "mecab-ipadic-utf8 is already the newest version (2.7.0-20070801+main-3).\n",
            "mecab is already the newest version (0.996-14build9).\n",
            "0 upgraded, 0 newly installed, 0 to remove and 35 not upgraded.\n",
            "Requirement already satisfied: mecab-python3 in /usr/local/lib/python3.11/dist-packages (1.0.10)\n",
            "私\tワタシ\t私\t名詞-代名詞-一般\t\t\n",
            "は\tハ\tは\t助詞-係助詞\t\t\n",
            "昨日\tキノウ\t昨日\t名詞-副詞可能\t\t\n",
            "、\t、\t、\t記号-読点\t\t\n",
            "図書館\tトショカン\t図書館\t名詞-一般\t\t\n",
            "へ\tヘ\tへ\t助詞-格助詞-一般\t\t\n",
            "行っ\tイッ\t行く\t動詞-自立\t五段・カ行促音便\t連用タ接続\n",
            "て\tテ\tて\t助詞-接続助詞\t\t\n",
            "本\tホン\t本\t名詞-一般\t\t\n",
            "を\tヲ\tを\t助詞-格助詞-一般\t\t\n",
            "読み\tヨミ\t読む\t動詞-自立\t五段・マ行\t連用形\n",
            "まし\tマシ\tます\t助動詞\t特殊・マス\t連用形\n",
            "た\tタ\tた\t助動詞\t特殊・タ\t基本形\n",
            "。\t。\t。\t記号-句点\t\t\n",
            "EOS\n",
            "\n"
          ]
        }
      ]
    },
    {
      "cell_type": "markdown",
      "id": "80e3790d-077d-453a-b981-964f609fc4be",
      "metadata": {
        "id": "80e3790d-077d-453a-b981-964f609fc4be"
      },
      "source": [
        "## 30. 動詞\n",
        "文章`text`に含まれる動詞をすべて表示せよ。"
      ]
    },
    {
      "cell_type": "code",
      "source": [
        "import MeCab\n",
        "\n",
        "mecab = MeCab.Tagger(\"-r /etc/mecabrc\")\n",
        "\n",
        "node = mecab.parseToNode(text)\n",
        "while node:\n",
        "    # 品詞情報は feature に入っている\n",
        "    features = node.feature.split(\",\")\n",
        "    if features[0] == \"動詞\":  # 品詞が動詞\n",
        "        print(node.surface)    # 単語の表層形を出力\n",
        "    node = node.next"
      ],
      "metadata": {
        "id": "DLXdVSfhJj_F",
        "outputId": "756ab738-34f5-49f2-bdf7-27c84838cd33",
        "colab": {
          "base_uri": "https://localhost:8080/"
        }
      },
      "id": "DLXdVSfhJj_F",
      "execution_count": 16,
      "outputs": [
        {
          "output_type": "stream",
          "name": "stdout",
          "text": [
            "し\n",
            "除か\n",
            "なら\n",
            "し\n",
            "わから\n",
            "吹き\n",
            "遊ん\n",
            "暮し\n",
            "来\n"
          ]
        }
      ]
    },
    {
      "cell_type": "markdown",
      "id": "5fd1d613-8375-4837-b534-a01451eddf98",
      "metadata": {
        "id": "5fd1d613-8375-4837-b534-a01451eddf98"
      },
      "source": [
        "## 31. 動詞の原型\n",
        "文章`text`に含まれる動詞と、その原型をすべて表示せよ。"
      ]
    },
    {
      "cell_type": "code",
      "source": [
        "node = mecab.parseToNode(text)\n",
        "while node:\n",
        "    # 品詞情報は feature に入っている\n",
        "    features = node.feature.split(\",\")\n",
        "    if features[0] == \"動詞\":  # 品詞が動詞\n",
        "        print(f'動詞:{node.surface},原型:{features[6]}')    # 単語の表層形を出力\n",
        "    node = node.next"
      ],
      "metadata": {
        "id": "M7SVJ_45M6hj",
        "outputId": "d9a00c79-1743-4ba8-c6bc-0ad3434f6adf",
        "colab": {
          "base_uri": "https://localhost:8080/"
        }
      },
      "id": "M7SVJ_45M6hj",
      "execution_count": 19,
      "outputs": [
        {
          "output_type": "stream",
          "name": "stdout",
          "text": [
            "動詞:し,原型:する\n",
            "動詞:除か,原型:除く\n",
            "動詞:なら,原型:なる\n",
            "動詞:し,原型:する\n",
            "動詞:わから,原型:わかる\n",
            "動詞:吹き,原型:吹く\n",
            "動詞:遊ん,原型:遊ぶ\n",
            "動詞:暮し,原型:暮す\n",
            "動詞:来,原型:来る\n"
          ]
        }
      ]
    },
    {
      "cell_type": "markdown",
      "id": "34558343-a286-429b-b3ee-b1e6b3ca4561",
      "metadata": {
        "id": "34558343-a286-429b-b3ee-b1e6b3ca4561"
      },
      "source": [
        "## 32. 「AのB」\n",
        "文章`text`において、2つの名詞が「の」で連結されている名詞句をすべて抽出せよ。"
      ]
    },
    {
      "cell_type": "code",
      "source": [
        "node = mecab.parseToNode(text)\n",
        "results=[]\n",
        "\n",
        "while node:\n",
        "  features = node.feature.split(\",\")\n",
        "  # 品詞情報が名詞か\n",
        "  if features[0] == \"名詞\":  # 品詞が動詞\n",
        "    first = node.surface\n",
        "    next1=node.next\n",
        "    if next1:\n",
        "      features2 = next1.feature.split(\",\")\n",
        "      #次がの\n",
        "      if features2[0] == \"助詞\" and features2[6] == \"の\":\n",
        "        next2=next1.next\n",
        "        if next2:\n",
        "          features3 = next2.feature.split(\",\")\n",
        "          #次が名詞\n",
        "          if features3[0] == \"名詞\":\n",
        "            second = next2.surface\n",
        "            results.append(f'{first}の{second}')\n",
        "\n",
        "  node = node.next\n",
        "for phrase in results:\n",
        "    print(phrase)"
      ],
      "metadata": {
        "id": "0pSr189_Nfl4",
        "outputId": "8845300b-8c1e-4bb6-9dfb-cc998b393aae",
        "colab": {
          "base_uri": "https://localhost:8080/"
        }
      },
      "id": "0pSr189_Nfl4",
      "execution_count": 23,
      "outputs": [
        {
          "output_type": "stream",
          "name": "stdout",
          "text": [
            "暴虐の王\n",
            "村の牧人\n"
          ]
        }
      ]
    },
    {
      "cell_type": "markdown",
      "id": "7cac9c74-cd83-42d3-8cde-a4a0f4200094",
      "metadata": {
        "id": "7cac9c74-cd83-42d3-8cde-a4a0f4200094"
      },
      "source": [
        "## 33. 係り受け解析\n",
        "\n",
        "文章`text`に係り受け解析を適用し、係り元と係り先のトークン（形態素や文節などの単位）をタブ区切り形式ですべて抽出せよ。"
      ]
    },
    {
      "cell_type": "markdown",
      "id": "eb49b4d2-9869-4f43-9cd8-9e79e0c1b40f",
      "metadata": {
        "id": "eb49b4d2-9869-4f43-9cd8-9e79e0c1b40f"
      },
      "source": [
        "## 34. 主述の関係\n",
        "文章`text`において、「メロス」が主語であるときの述語を抽出せよ。"
      ]
    },
    {
      "cell_type": "markdown",
      "id": "ec8ba153-85e7-4cbe-bcc0-bb659409d494",
      "metadata": {
        "id": "ec8ba153-85e7-4cbe-bcc0-bb659409d494"
      },
      "source": [
        "## 35. 係り受け木\n",
        "「メロスは激怒した。」の係り受け木を可視化せよ。"
      ]
    },
    {
      "cell_type": "markdown",
      "id": "b880d760-ea6c-4722-9a65-5b97a02ed192",
      "metadata": {
        "id": "b880d760-ea6c-4722-9a65-5b97a02ed192"
      },
      "source": [
        "## 36. 単語の出現頻度\n",
        "\n",
        "問題36から39までは、Wikipediaの記事を以下のフォーマットで書き出したファイル[jawiki-country.json.gz](/data/jawiki-country.json.gz)をコーパスと見なし、統計的な分析を行う。\n",
        "\n",
        "* 1行に1記事の情報がJSON形式で格納される\n",
        "* 各行には記事名が\"title\"キーに、記事本文が\"text\"キーの辞書オブジェクトに格納され、そのオブジェクトがJSON形式で書き出される\n",
        "* ファイル全体はgzipで圧縮される\n",
        "\n",
        "まず、第3章の処理内容を参考に、Wikipedia記事からマークアップを除去し、各記事のテキストを抽出せよ。そして、コーパスにおける単語（形態素）の出現頻度を求め、出現頻度の高い20語とその出現頻度を表示せよ。"
      ]
    },
    {
      "cell_type": "markdown",
      "id": "e38bd27c-0644-4468-8b4d-99318b91c0cb",
      "metadata": {
        "id": "e38bd27c-0644-4468-8b4d-99318b91c0cb"
      },
      "source": [
        "## 37. 名詞の出現頻度\n",
        "コーパスにおける名詞の出現頻度を求め、出現頻度の高い20語とその出現頻度を表示せよ。"
      ]
    },
    {
      "cell_type": "markdown",
      "id": "8a64fda0-5ee3-48ad-9071-f37f805951d3",
      "metadata": {
        "id": "8a64fda0-5ee3-48ad-9071-f37f805951d3"
      },
      "source": [
        "## 38. TF・IDF\n",
        "日本に関する記事における名詞のTF・IDFスコアを求め、TF・IDFスコア上位20語とそのTF, IDF, TF・IDFを表示せよ。"
      ]
    },
    {
      "cell_type": "markdown",
      "id": "5f3b60e9-5d8e-4c2e-a68d-385c91713113",
      "metadata": {
        "id": "5f3b60e9-5d8e-4c2e-a68d-385c91713113"
      },
      "source": [
        "## 39. Zipfの法則\n",
        "コーパスにおける単語の出現頻度順位を横軸、その出現頻度を縦軸として、両対数グラフをプロットせよ。"
      ]
    }
  ],
  "metadata": {
    "colab": {
      "provenance": []
    },
    "kernelspec": {
      "display_name": "Python 3 (ipykernel)",
      "language": "python",
      "name": "python3"
    },
    "language_info": {
      "codemirror_mode": {
        "name": "ipython",
        "version": 3
      },
      "file_extension": ".py",
      "mimetype": "text/x-python",
      "name": "python",
      "nbconvert_exporter": "python",
      "pygments_lexer": "ipython3",
      "version": "3.12.3"
    }
  },
  "nbformat": 4,
  "nbformat_minor": 5
}