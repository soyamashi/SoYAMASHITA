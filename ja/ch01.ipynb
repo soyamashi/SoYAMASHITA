{
  "cells": [
    {
      "cell_type": "markdown",
      "id": "5d2e8296-0efe-488a-9303-c53e0aac5573",
      "metadata": {
        "editable": true,
        "id": "5d2e8296-0efe-488a-9303-c53e0aac5573",
        "tags": []
      },
      "source": [
        "# 第1章: 準備運動"
      ]
    },
    {
      "cell_type": "markdown",
      "id": "b25a842d-828c-4fcd-b23e-62fcdbabc4dd",
      "metadata": {
        "editable": true,
        "id": "b25a842d-828c-4fcd-b23e-62fcdbabc4dd",
        "tags": []
      },
      "source": [
        "## 00. パタトクカシーー\n",
        "2つの文字列「パトカー」と「タクシー」の文字を先頭から交互に連結し、文字列「パタトクカシーー」を得よ。"
      ]
    },
    {
      "cell_type": "code",
      "source": [
        "txt1='パトカー'\n",
        "txt2='タクシー'\n",
        "txt3=''\n",
        "for i in range(len(txt1)):\n",
        "  txt3+=txt1[i]+txt2[i]\n",
        "txt3"
      ],
      "metadata": {
        "colab": {
          "base_uri": "https://localhost:8080/",
          "height": 35
        },
        "id": "z4JR1Q6Lagfa",
        "outputId": "71e3ecc9-a691-45df-c882-fae9829dc68c"
      },
      "id": "z4JR1Q6Lagfa",
      "execution_count": 5,
      "outputs": [
        {
          "output_type": "execute_result",
          "data": {
            "text/plain": [
              "'パタトクカシーー'"
            ],
            "application/vnd.google.colaboratory.intrinsic+json": {
              "type": "string"
            }
          },
          "metadata": {},
          "execution_count": 5
        }
      ]
    },
    {
      "cell_type": "markdown",
      "id": "552596a9-f286-49b1-8443-ceb3454889e0",
      "metadata": {
        "editable": true,
        "id": "552596a9-f286-49b1-8443-ceb3454889e0",
        "tags": []
      },
      "source": [
        "## 01. タクシー\n",
        "文字列「パタトクカシーー」の2, 4, 6, 8文字目を取り出し、それらを連結した文字列を得よ。"
      ]
    },
    {
      "cell_type": "code",
      "source": [
        "txt4=''\n",
        "for i in range(1,len(txt3),2):\n",
        "  txt4 += txt3[i]\n",
        "txt4"
      ],
      "metadata": {
        "colab": {
          "base_uri": "https://localhost:8080/",
          "height": 35
        },
        "id": "Odpj-lK6btDI",
        "outputId": "d32b058c-2cab-48b7-aaa8-90c7e843682a"
      },
      "id": "Odpj-lK6btDI",
      "execution_count": 8,
      "outputs": [
        {
          "output_type": "execute_result",
          "data": {
            "text/plain": [
              "'タクシー'"
            ],
            "application/vnd.google.colaboratory.intrinsic+json": {
              "type": "string"
            }
          },
          "metadata": {},
          "execution_count": 8
        }
      ]
    },
    {
      "cell_type": "markdown",
      "id": "1c0a9a7c-4ade-4023-9f44-fc9cf394978b",
      "metadata": {
        "editable": true,
        "id": "1c0a9a7c-4ade-4023-9f44-fc9cf394978b",
        "tags": []
      },
      "source": [
        "## 02. 文字列の逆順\n",
        "文字列\"stressed\"の文字を逆に（末尾から先頭に向かって）並べた文字列を得よ。"
      ]
    },
    {
      "cell_type": "code",
      "source": [
        "txt5='stressed'\n",
        "\n",
        "for i in range(len(txt5)-1,-1,-1):\n",
        "  print(i)\n",
        "  print(txt5[i],end='')"
      ],
      "metadata": {
        "colab": {
          "base_uri": "https://localhost:8080/"
        },
        "id": "etRd9DUocbS_",
        "outputId": "14fbdeec-f1c1-4741-f748-74dea86eae59"
      },
      "id": "etRd9DUocbS_",
      "execution_count": 10,
      "outputs": [
        {
          "output_type": "stream",
          "name": "stdout",
          "text": [
            "7\n",
            "d6\n",
            "e5\n",
            "s4\n",
            "s3\n",
            "e2\n",
            "r1\n",
            "t0\n",
            "s"
          ]
        }
      ]
    },
    {
      "cell_type": "markdown",
      "id": "4161bcb5-5baf-4172-b2a6-7c14f1907d54",
      "metadata": {
        "id": "4161bcb5-5baf-4172-b2a6-7c14f1907d54"
      },
      "source": [
        "## 03. 円周率\n",
        "\"Now I need a drink, alcoholic of course, after the heavy lectures involving quantum mechanics.\"という文を単語に分解し、各単語の（アルファベットの）文字数を先頭から出現順に並べたリストを作成せよ。"
      ]
    },
    {
      "cell_type": "code",
      "source": [
        "import re\n",
        "\n",
        "statment='Now I need a drink, alcoholic of course, after the heavy lectures involving quantum mechanics.'\n",
        "# 英数字とした線[a-zA-Z0-9_]\n",
        "pattern=re.compile(r'\\w')\n",
        "words=re.findall(r'\\w+',statment)\n",
        "length= [len(word) for word in words]\n",
        "length"
      ],
      "metadata": {
        "colab": {
          "base_uri": "https://localhost:8080/"
        },
        "id": "_y4QpTpYdzfl",
        "outputId": "83961244-dd7f-4de9-9104-eafe0e9c3b33"
      },
      "id": "_y4QpTpYdzfl",
      "execution_count": 3,
      "outputs": [
        {
          "output_type": "execute_result",
          "data": {
            "text/plain": [
              "[3, 1, 4, 1, 5, 9, 2, 6, 5, 3, 5, 8, 9, 7, 9]"
            ]
          },
          "metadata": {},
          "execution_count": 3
        }
      ]
    },
    {
      "cell_type": "markdown",
      "id": "8e56c958-d6fb-411c-9dc6-77992c515637",
      "metadata": {
        "id": "8e56c958-d6fb-411c-9dc6-77992c515637"
      },
      "source": [
        "## 04. 元素記号\n",
        "\"Hi He Lied Because Boron Could Not Oxidize Fluorine. New Nations Might Also Sign Peace Security Clause. Arthur King Can.\"という文を単語に分解し、1, 5, 6, 7, 8, 9, 15, 16, 19番目の単語は先頭の1文字、それ以外の単語は先頭の2文字を取り出し、取り出した文字列から単語の位置（先頭から何番目の単語か）への連想配列（辞書型もしくはマップ型）を作成せよ。"
      ]
    },
    {
      "cell_type": "code",
      "source": [
        "statment1='Hi He Lied Because Boron Could Not Oxidize Fluorine. New Nations Might Also Sign Peace Security Clause. Arthur King Can.'\n",
        "words1=re.findall(r'\\w+',statment1)\n",
        "\n",
        "\n",
        "i=[1, 5, 6, 7, 8, 9, 15, 16, 19]\n",
        "\n",
        "dic={}\n",
        "for j in range(len(words1)):\n",
        "  if j+1 in i:\n",
        "    dic[words1[j][0]] = j+1\n",
        "  else:\n",
        "    dic[words1[j][0:2]] = j+1\n",
        "dic"
      ],
      "metadata": {
        "colab": {
          "base_uri": "https://localhost:8080/"
        },
        "id": "THp5itgqkTGX",
        "outputId": "9d16eed4-6ae0-4606-9381-c32d491b5bde"
      },
      "id": "THp5itgqkTGX",
      "execution_count": 7,
      "outputs": [
        {
          "output_type": "stream",
          "name": "stdout",
          "text": [
            "H\n"
          ]
        },
        {
          "output_type": "execute_result",
          "data": {
            "text/plain": [
              "{'H': 1,\n",
              " 'He': 2,\n",
              " 'Li': 3,\n",
              " 'Be': 4,\n",
              " 'B': 5,\n",
              " 'C': 6,\n",
              " 'N': 7,\n",
              " 'O': 8,\n",
              " 'F': 9,\n",
              " 'Ne': 10,\n",
              " 'Na': 11,\n",
              " 'Mi': 12,\n",
              " 'Al': 13,\n",
              " 'Si': 14,\n",
              " 'P': 15,\n",
              " 'S': 16,\n",
              " 'Cl': 17,\n",
              " 'Ar': 18,\n",
              " 'K': 19,\n",
              " 'Ca': 20}"
            ]
          },
          "metadata": {},
          "execution_count": 7
        }
      ]
    },
    {
      "cell_type": "markdown",
      "id": "5269dd34-1b19-4a99-9e3d-593e978f3361",
      "metadata": {
        "id": "5269dd34-1b19-4a99-9e3d-593e978f3361"
      },
      "source": [
        "## 05. n-gram\n",
        "与えられたシーケンス（文字列やリストなど）からn-gramを作る関数を作成せよ。この関数を用い、\"I am an NLPer\"という文から文字tri-gram、単語bi-gramを得よ。"
      ]
    },
    {
      "cell_type": "code",
      "source": [
        "\n",
        "\n",
        "sentence=\"I am an NLPer\"\n",
        "\n",
        "sentence=sentence.replace(' ','')\n",
        "seq=sentence\n",
        "\n",
        "ngram=lambda seq,n: [seq[i:i+n] for i in range(len(seq)-n+1)]\n",
        "\n",
        "\n",
        "print(ngram(seq,2))\n",
        "tri=ngram(seq,3)\n",
        "tri\n"
      ],
      "metadata": {
        "id": "BemWX0RyPKZ_",
        "outputId": "d5d56338-0234-4656-ebbc-183759b0fa1b",
        "colab": {
          "base_uri": "https://localhost:8080/"
        }
      },
      "id": "BemWX0RyPKZ_",
      "execution_count": 22,
      "outputs": [
        {
          "output_type": "stream",
          "name": "stdout",
          "text": [
            "['Ia', 'am', 'ma', 'an', 'nN', 'NL', 'LP', 'Pe', 'er']\n"
          ]
        },
        {
          "output_type": "execute_result",
          "data": {
            "text/plain": [
              "['Iam', 'ama', 'man', 'anN', 'nNL', 'NLP', 'LPe', 'Per']"
            ]
          },
          "metadata": {},
          "execution_count": 22
        }
      ]
    },
    {
      "cell_type": "markdown",
      "id": "15df1a31-7906-4562-b5c5-b52194487ea9",
      "metadata": {
        "id": "15df1a31-7906-4562-b5c5-b52194487ea9"
      },
      "source": [
        "## 06. 集合\n",
        "\"paraparaparadise\"と\"paragraph\"に含まれる文字bi-gramの集合を、それぞれ, $X$ と $Y$ として求め、$X$ と $Y$ の和集合（$X \\cup Y$）、積集合（$X \\cap Y$）、差集合（$X \\setminus Y$）を求めよ。さらに、'se'というbi-gramがXおよびYに含まれるかどうかを調べよ。"
      ]
    },
    {
      "cell_type": "code",
      "source": [
        "seq1=\"paraparaparadise\"\n",
        "seq2=\"paragraph\"\n",
        "\n",
        "ngram=lambda seq,n:[seq[i:i+n] for i in range(len(seq)-n+1)]\n",
        "\n",
        "X=ngram(seq1,2)\n",
        "Y=ngram(seq2,2)\n",
        "\n",
        "X=set(X)\n",
        "Y=set(Y)\n",
        "\n",
        "XorY=set(X|Y)\n",
        "XandY=set(X&Y)\n",
        "XsubY=set(X-Y)\n",
        "\n",
        "print(XorY)\n",
        "print(XandY)\n",
        "print(XsubY)\n",
        "\n",
        "print('se' in X)\n",
        "print('se' in Y)\n",
        "\n",
        "\n"
      ],
      "metadata": {
        "id": "PRd0eV5u8nIy",
        "outputId": "109ac4db-083b-4e82-d75e-25494055b740",
        "colab": {
          "base_uri": "https://localhost:8080/"
        }
      },
      "id": "PRd0eV5u8nIy",
      "execution_count": 28,
      "outputs": [
        {
          "output_type": "stream",
          "name": "stdout",
          "text": [
            "{'is', 'ap', 'ra', 'ph', 'se', 'ag', 'ar', 'di', 'gr', 'pa', 'ad'}\n",
            "{'ra', 'ar', 'pa', 'ap'}\n",
            "{'di', 'is', 'ad', 'se'}\n",
            "True\n",
            "False\n"
          ]
        }
      ]
    },
    {
      "cell_type": "markdown",
      "id": "90b9bdde-e35c-4dc5-a46d-f7a8dd6d6513",
      "metadata": {
        "id": "90b9bdde-e35c-4dc5-a46d-f7a8dd6d6513"
      },
      "source": [
        "## 07. テンプレートによる文生成\n",
        "引数x, y, zを受け取り「x時のyはz」という文字列を返す関数を実装せよ。さらに、x=12, y=\"気温\", z=22.4として、実行結果を確認せよ。"
      ]
    },
    {
      "cell_type": "code",
      "source": [
        "def template(x,y,z):\n",
        "  return f'{x}時の{y}は{z}'\n",
        "\n",
        "template(12,'気温',22.4)"
      ],
      "metadata": {
        "id": "U-ejF4CwAqbl",
        "outputId": "2ad35513-11c6-4631-c5c7-0628ac8714ad",
        "colab": {
          "base_uri": "https://localhost:8080/",
          "height": 35
        }
      },
      "id": "U-ejF4CwAqbl",
      "execution_count": 32,
      "outputs": [
        {
          "output_type": "execute_result",
          "data": {
            "text/plain": [
              "'12時の気温は22.4'"
            ],
            "application/vnd.google.colaboratory.intrinsic+json": {
              "type": "string"
            }
          },
          "metadata": {},
          "execution_count": 32
        }
      ]
    },
    {
      "cell_type": "markdown",
      "id": "215bd86b-1b3c-4446-98ae-af5d671fba12",
      "metadata": {
        "id": "215bd86b-1b3c-4446-98ae-af5d671fba12"
      },
      "source": [
        "## 08. 暗号文\n",
        "与えられた文字列の各文字を、以下の仕様で変換する関数cipherを実装せよ。\n",
        "\n",
        "* 英小文字ならば (219 - 文字コード) のASCIIコードに対応する文字に置換\n",
        "* その他の文字はそのまま出力\n",
        "\n",
        "この関数を用い、英語のメッセージを暗号化・復号化せよ。"
      ]
    },
    {
      "cell_type": "code",
      "source": [
        "import re\n",
        "def cipher(statement):\n",
        "  strlist=list(statement)\n",
        "  for i in range(len(strlist)):\n",
        "    if strlist[i].islower():\n",
        "      strlist[i]=chr(219-ord(strlist[i]))\n",
        "\n",
        "  return strlist\n",
        "\n",
        "\n",
        "coded=cipher('I am codeTallker')\n",
        "print(coded)\n",
        "\n",
        "decoded=cipher(coded)\n",
        "\n",
        "print(decoded)"
      ],
      "metadata": {
        "id": "hpokw_G1BNMG",
        "outputId": "c91646a4-96ae-425f-b9e2-1b36cf597e33",
        "colab": {
          "base_uri": "https://localhost:8080/"
        }
      },
      "id": "hpokw_G1BNMG",
      "execution_count": 39,
      "outputs": [
        {
          "output_type": "stream",
          "name": "stdout",
          "text": [
            "['I', ' ', 'z', 'n', ' ', 'x', 'l', 'w', 'v', 'T', 'z', 'o', 'o', 'p', 'v', 'i']\n",
            "['I', ' ', 'a', 'm', ' ', 'c', 'o', 'd', 'e', 'T', 'a', 'l', 'l', 'k', 'e', 'r']\n"
          ]
        }
      ]
    },
    {
      "cell_type": "markdown",
      "id": "64c1bdae-5ce3-4128-86be-23ce079a2d98",
      "metadata": {
        "id": "64c1bdae-5ce3-4128-86be-23ce079a2d98"
      },
      "source": [
        "## 09. Typoglycemia\n",
        "スペースで区切られた単語列に対して、各単語の先頭と末尾の文字は残し、それ以外の文字の順序をランダムに並び替えるプログラムを作成せよ。ただし、長さが４以下の単語は並び替えないこととする。適当な英語の文（例えば\"I couldn't believe that I could actually understand what I was reading : the phenomenal power of the human mind .\"）を与え、その実行結果を確認せよ。"
      ]
    },
    {
      "cell_type": "code",
      "source": [
        "statment='I couldn\\'t believe that I could actually understand what I was reading : the phenomenal power of the human mind .'\n",
        "import random\n",
        "words=statment.split()\n",
        "for i in range(len(words)):\n",
        "  if len(words[i])>4:\n",
        "    #words[i]=words[i][0]+''.join(random.sample(words[i][1:-1],len(words[i][1:-1])))+words[i][-1]\n",
        "    words[i]=words[i][0]+''.join(random.sample(words[i][1:-1],len(words[i][1:-1])))+words[i][-1]\n",
        "words\n",
        "\n",
        "\n"
      ],
      "metadata": {
        "id": "88qiN0aBFpy-",
        "outputId": "2ed5f68d-61f2-43f2-84f6-f617e9b237e5",
        "colab": {
          "base_uri": "https://localhost:8080/"
        }
      },
      "id": "88qiN0aBFpy-",
      "execution_count": 10,
      "outputs": [
        {
          "output_type": "execute_result",
          "data": {
            "text/plain": [
              "['I',\n",
              " \"cnoud'lt\",\n",
              " 'beleive',\n",
              " 'that',\n",
              " 'I',\n",
              " 'culod',\n",
              " 'aaltculy',\n",
              " 'usrnentadd',\n",
              " 'what',\n",
              " 'I',\n",
              " 'was',\n",
              " 'rnaideg',\n",
              " ':',\n",
              " 'the',\n",
              " 'pnnaoheeml',\n",
              " 'pewor',\n",
              " 'of',\n",
              " 'the',\n",
              " 'hamun',\n",
              " 'mind',\n",
              " '.']"
            ]
          },
          "metadata": {},
          "execution_count": 10
        }
      ]
    },
    {
      "cell_type": "code",
      "source": [],
      "metadata": {
        "id": "tVay3d_fwJ9K"
      },
      "id": "tVay3d_fwJ9K",
      "execution_count": null,
      "outputs": []
    }
  ],
  "metadata": {
    "colab": {
      "provenance": []
    },
    "kernelspec": {
      "display_name": "Python 3",
      "name": "python3"
    },
    "language_info": {
      "codemirror_mode": {
        "name": "ipython",
        "version": 3
      },
      "file_extension": ".py",
      "mimetype": "text/x-python",
      "name": "python",
      "nbconvert_exporter": "python",
      "pygments_lexer": "ipython3",
      "version": "3.12.3"
    }
  },
  "nbformat": 4,
  "nbformat_minor": 5
}