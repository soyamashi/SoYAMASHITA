{
  "cells": [
    {
      "cell_type": "markdown",
      "id": "4d5cd462-0ddc-48c0-848c-bc46be0af9fd",
      "metadata": {
        "editable": true,
        "id": "4d5cd462-0ddc-48c0-848c-bc46be0af9fd",
        "tags": []
      },
      "source": [
        "# 第4章: 言語解析\n",
        "\n",
        "問題30から問題35までは、以下の文章`text`（太宰治の『走れメロス』の冒頭部分）に対して、言語解析を実施せよ。問題36から問題39までは、国家を説明した文書群（日本語版ウィキペディア記事から抽出したテキスト群）をコーパスとして、言語解析を実施せよ。"
      ]
    },
    {
      "cell_type": "code",
      "execution_count": 1,
      "id": "7e6766b0-630b-4b78-8312-27e6f8104e7b",
      "metadata": {
        "editable": true,
        "id": "7e6766b0-630b-4b78-8312-27e6f8104e7b",
        "tags": []
      },
      "outputs": [],
      "source": [
        "text = \"\"\"\n",
        "メロスは激怒した。\n",
        "必ず、かの邪智暴虐の王を除かなければならぬと決意した。\n",
        "メロスには政治がわからぬ。\n",
        "メロスは、村の牧人である。\n",
        "笛を吹き、羊と遊んで暮して来た。\n",
        "けれども邪悪に対しては、人一倍に敏感であった。\n",
        "\"\"\""
      ]
    },
    {
      "cell_type": "code",
      "source": [
        "!apt install mecab libmecab-dev mecab-ipadic-utf8 -y\n",
        "!pip install mecab-python3\n",
        "import MeCab\n",
        "\n",
        "# mecabrc の場所を明示（Colabは /etc/mecabrc にある）\n",
        "mecab = MeCab.Tagger(\"-r /etc/mecabrc -Ochasen\")\n",
        "print(mecab.parse(\"私は昨日、図書館へ行って本を読みました。\"))"
      ],
      "metadata": {
        "colab": {
          "base_uri": "https://localhost:8080/"
        },
        "id": "qokyCZJULu2y",
        "outputId": "20c264d0-ba1e-4259-f9de-4c2e542e03e9"
      },
      "id": "qokyCZJULu2y",
      "execution_count": 2,
      "outputs": [
        {
          "output_type": "stream",
          "name": "stdout",
          "text": [
            "Reading package lists... Done\n",
            "Building dependency tree... Done\n",
            "Reading state information... Done\n",
            "The following additional packages will be installed:\n",
            "  libmecab2 mecab-ipadic mecab-utils\n",
            "The following NEW packages will be installed:\n",
            "  libmecab-dev libmecab2 mecab mecab-ipadic mecab-ipadic-utf8 mecab-utils\n",
            "0 upgraded, 6 newly installed, 0 to remove and 35 not upgraded.\n",
            "Need to get 7,367 kB of archives.\n",
            "After this operation, 59.3 MB of additional disk space will be used.\n",
            "Get:1 http://archive.ubuntu.com/ubuntu jammy/main amd64 libmecab2 amd64 0.996-14build9 [199 kB]\n",
            "Get:2 http://archive.ubuntu.com/ubuntu jammy/main amd64 libmecab-dev amd64 0.996-14build9 [306 kB]\n",
            "Get:3 http://archive.ubuntu.com/ubuntu jammy/main amd64 mecab-utils amd64 0.996-14build9 [4,850 B]\n",
            "Get:4 http://archive.ubuntu.com/ubuntu jammy/main amd64 mecab-ipadic all 2.7.0-20070801+main-3 [6,718 kB]\n",
            "Get:5 http://archive.ubuntu.com/ubuntu jammy/universe amd64 mecab amd64 0.996-14build9 [136 kB]\n",
            "Get:6 http://archive.ubuntu.com/ubuntu jammy/main amd64 mecab-ipadic-utf8 all 2.7.0-20070801+main-3 [4,384 B]\n",
            "Fetched 7,367 kB in 0s (17.2 MB/s)\n",
            "Selecting previously unselected package libmecab2:amd64.\n",
            "(Reading database ... 126371 files and directories currently installed.)\n",
            "Preparing to unpack .../0-libmecab2_0.996-14build9_amd64.deb ...\n",
            "Unpacking libmecab2:amd64 (0.996-14build9) ...\n",
            "Selecting previously unselected package libmecab-dev.\n",
            "Preparing to unpack .../1-libmecab-dev_0.996-14build9_amd64.deb ...\n",
            "Unpacking libmecab-dev (0.996-14build9) ...\n",
            "Selecting previously unselected package mecab-utils.\n",
            "Preparing to unpack .../2-mecab-utils_0.996-14build9_amd64.deb ...\n",
            "Unpacking mecab-utils (0.996-14build9) ...\n",
            "Selecting previously unselected package mecab-ipadic.\n",
            "Preparing to unpack .../3-mecab-ipadic_2.7.0-20070801+main-3_all.deb ...\n",
            "Unpacking mecab-ipadic (2.7.0-20070801+main-3) ...\n",
            "Selecting previously unselected package mecab.\n",
            "Preparing to unpack .../4-mecab_0.996-14build9_amd64.deb ...\n",
            "Unpacking mecab (0.996-14build9) ...\n",
            "Selecting previously unselected package mecab-ipadic-utf8.\n",
            "Preparing to unpack .../5-mecab-ipadic-utf8_2.7.0-20070801+main-3_all.deb ...\n",
            "Unpacking mecab-ipadic-utf8 (2.7.0-20070801+main-3) ...\n",
            "Setting up libmecab2:amd64 (0.996-14build9) ...\n",
            "Setting up libmecab-dev (0.996-14build9) ...\n",
            "Setting up mecab-utils (0.996-14build9) ...\n",
            "Setting up mecab-ipadic (2.7.0-20070801+main-3) ...\n",
            "Compiling IPA dictionary for Mecab.  This takes long time...\n",
            "reading /usr/share/mecab/dic/ipadic/unk.def ... 40\n",
            "emitting double-array: 100% |###########################################| \n",
            "/usr/share/mecab/dic/ipadic/model.def is not found. skipped.\n",
            "reading /usr/share/mecab/dic/ipadic/Postp.csv ... 146\n",
            "reading /usr/share/mecab/dic/ipadic/Adverb.csv ... 3032\n",
            "reading /usr/share/mecab/dic/ipadic/Filler.csv ... 19\n",
            "reading /usr/share/mecab/dic/ipadic/Conjunction.csv ... 171\n",
            "reading /usr/share/mecab/dic/ipadic/Noun.proper.csv ... 27328\n",
            "reading /usr/share/mecab/dic/ipadic/Postp-col.csv ... 91\n",
            "reading /usr/share/mecab/dic/ipadic/Noun.nai.csv ... 42\n",
            "reading /usr/share/mecab/dic/ipadic/Adj.csv ... 27210\n",
            "reading /usr/share/mecab/dic/ipadic/Symbol.csv ... 208\n",
            "reading /usr/share/mecab/dic/ipadic/Noun.org.csv ... 16668\n",
            "reading /usr/share/mecab/dic/ipadic/Noun.demonst.csv ... 120\n",
            "reading /usr/share/mecab/dic/ipadic/Noun.verbal.csv ... 12146\n",
            "reading /usr/share/mecab/dic/ipadic/Noun.adverbal.csv ... 795\n",
            "reading /usr/share/mecab/dic/ipadic/Noun.number.csv ... 42\n",
            "reading /usr/share/mecab/dic/ipadic/Verb.csv ... 130750\n",
            "reading /usr/share/mecab/dic/ipadic/Prefix.csv ... 221\n",
            "reading /usr/share/mecab/dic/ipadic/Noun.csv ... 60477\n",
            "reading /usr/share/mecab/dic/ipadic/Noun.others.csv ... 151\n",
            "reading /usr/share/mecab/dic/ipadic/Suffix.csv ... 1393\n",
            "reading /usr/share/mecab/dic/ipadic/Others.csv ... 2\n",
            "reading /usr/share/mecab/dic/ipadic/Auxil.csv ... 199\n",
            "reading /usr/share/mecab/dic/ipadic/Noun.adjv.csv ... 3328\n",
            "reading /usr/share/mecab/dic/ipadic/Noun.place.csv ... 72999\n",
            "reading /usr/share/mecab/dic/ipadic/Adnominal.csv ... 135\n",
            "reading /usr/share/mecab/dic/ipadic/Noun.name.csv ... 34202\n",
            "reading /usr/share/mecab/dic/ipadic/Interjection.csv ... 252\n",
            "emitting double-array: 100% |###########################################| \n",
            "reading /usr/share/mecab/dic/ipadic/matrix.def ... 1316x1316\n",
            "emitting matrix      : 100% |###########################################| \n",
            "\n",
            "done!\n",
            "update-alternatives: using /var/lib/mecab/dic/ipadic to provide /var/lib/mecab/dic/debian (mecab-dictionary) in auto mode\n",
            "Setting up mecab (0.996-14build9) ...\n",
            "Compiling IPA dictionary for Mecab.  This takes long time...\n",
            "reading /usr/share/mecab/dic/ipadic/unk.def ... 40\n",
            "emitting double-array: 100% |###########################################| \n",
            "/usr/share/mecab/dic/ipadic/model.def is not found. skipped.\n",
            "reading /usr/share/mecab/dic/ipadic/Postp.csv ... 146\n",
            "reading /usr/share/mecab/dic/ipadic/Adverb.csv ... 3032\n",
            "reading /usr/share/mecab/dic/ipadic/Filler.csv ... 19\n",
            "reading /usr/share/mecab/dic/ipadic/Conjunction.csv ... 171\n",
            "reading /usr/share/mecab/dic/ipadic/Noun.proper.csv ... 27328\n",
            "reading /usr/share/mecab/dic/ipadic/Postp-col.csv ... 91\n",
            "reading /usr/share/mecab/dic/ipadic/Noun.nai.csv ... 42\n",
            "reading /usr/share/mecab/dic/ipadic/Adj.csv ... 27210\n",
            "reading /usr/share/mecab/dic/ipadic/Symbol.csv ... 208\n",
            "reading /usr/share/mecab/dic/ipadic/Noun.org.csv ... 16668\n",
            "reading /usr/share/mecab/dic/ipadic/Noun.demonst.csv ... 120\n",
            "reading /usr/share/mecab/dic/ipadic/Noun.verbal.csv ... 12146\n",
            "reading /usr/share/mecab/dic/ipadic/Noun.adverbal.csv ... 795\n",
            "reading /usr/share/mecab/dic/ipadic/Noun.number.csv ... 42\n",
            "reading /usr/share/mecab/dic/ipadic/Verb.csv ... 130750\n",
            "reading /usr/share/mecab/dic/ipadic/Prefix.csv ... 221\n",
            "reading /usr/share/mecab/dic/ipadic/Noun.csv ... 60477\n",
            "reading /usr/share/mecab/dic/ipadic/Noun.others.csv ... 151\n",
            "reading /usr/share/mecab/dic/ipadic/Suffix.csv ... 1393\n",
            "reading /usr/share/mecab/dic/ipadic/Others.csv ... 2\n",
            "reading /usr/share/mecab/dic/ipadic/Auxil.csv ... 199\n",
            "reading /usr/share/mecab/dic/ipadic/Noun.adjv.csv ... 3328\n",
            "reading /usr/share/mecab/dic/ipadic/Noun.place.csv ... 72999\n",
            "reading /usr/share/mecab/dic/ipadic/Adnominal.csv ... 135\n",
            "reading /usr/share/mecab/dic/ipadic/Noun.name.csv ... 34202\n",
            "reading /usr/share/mecab/dic/ipadic/Interjection.csv ... 252\n",
            "emitting double-array: 100% |###########################################| \n",
            "reading /usr/share/mecab/dic/ipadic/matrix.def ... 1316x1316\n",
            "emitting matrix      : 100% |###########################################| \n",
            "\n",
            "done!\n",
            "Setting up mecab-ipadic-utf8 (2.7.0-20070801+main-3) ...\n",
            "Compiling IPA dictionary for Mecab.  This takes long time...\n",
            "reading /usr/share/mecab/dic/ipadic/unk.def ... 40\n",
            "emitting double-array: 100% |###########################################| \n",
            "/usr/share/mecab/dic/ipadic/model.def is not found. skipped.\n",
            "reading /usr/share/mecab/dic/ipadic/Postp.csv ... 146\n",
            "reading /usr/share/mecab/dic/ipadic/Adverb.csv ... 3032\n",
            "reading /usr/share/mecab/dic/ipadic/Filler.csv ... 19\n",
            "reading /usr/share/mecab/dic/ipadic/Conjunction.csv ... 171\n",
            "reading /usr/share/mecab/dic/ipadic/Noun.proper.csv ... 27328\n",
            "reading /usr/share/mecab/dic/ipadic/Postp-col.csv ... 91\n",
            "reading /usr/share/mecab/dic/ipadic/Noun.nai.csv ... 42\n",
            "reading /usr/share/mecab/dic/ipadic/Adj.csv ... 27210\n",
            "reading /usr/share/mecab/dic/ipadic/Symbol.csv ... 208\n",
            "reading /usr/share/mecab/dic/ipadic/Noun.org.csv ... 16668\n",
            "reading /usr/share/mecab/dic/ipadic/Noun.demonst.csv ... 120\n",
            "reading /usr/share/mecab/dic/ipadic/Noun.verbal.csv ... 12146\n",
            "reading /usr/share/mecab/dic/ipadic/Noun.adverbal.csv ... 795\n",
            "reading /usr/share/mecab/dic/ipadic/Noun.number.csv ... 42\n",
            "reading /usr/share/mecab/dic/ipadic/Verb.csv ... 130750\n",
            "reading /usr/share/mecab/dic/ipadic/Prefix.csv ... 221\n",
            "reading /usr/share/mecab/dic/ipadic/Noun.csv ... 60477\n",
            "reading /usr/share/mecab/dic/ipadic/Noun.others.csv ... 151\n",
            "reading /usr/share/mecab/dic/ipadic/Suffix.csv ... 1393\n",
            "reading /usr/share/mecab/dic/ipadic/Others.csv ... 2\n",
            "reading /usr/share/mecab/dic/ipadic/Auxil.csv ... 199\n",
            "reading /usr/share/mecab/dic/ipadic/Noun.adjv.csv ... 3328\n",
            "reading /usr/share/mecab/dic/ipadic/Noun.place.csv ... 72999\n",
            "reading /usr/share/mecab/dic/ipadic/Adnominal.csv ... 135\n",
            "reading /usr/share/mecab/dic/ipadic/Noun.name.csv ... 34202\n",
            "reading /usr/share/mecab/dic/ipadic/Interjection.csv ... 252\n",
            "emitting double-array: 100% |###########################################| \n",
            "reading /usr/share/mecab/dic/ipadic/matrix.def ... 1316x1316\n",
            "emitting matrix      : 100% |###########################################| \n",
            "\n",
            "done!\n",
            "update-alternatives: using /var/lib/mecab/dic/ipadic-utf8 to provide /var/lib/mecab/dic/debian (mecab-dictionary) in auto mode\n",
            "Processing triggers for man-db (2.10.2-1) ...\n",
            "Processing triggers for libc-bin (2.35-0ubuntu3.8) ...\n",
            "/sbin/ldconfig.real: /usr/local/lib/libtcm_debug.so.1 is not a symbolic link\n",
            "\n",
            "/sbin/ldconfig.real: /usr/local/lib/libtbb.so.12 is not a symbolic link\n",
            "\n",
            "/sbin/ldconfig.real: /usr/local/lib/libtbbbind.so.3 is not a symbolic link\n",
            "\n",
            "/sbin/ldconfig.real: /usr/local/lib/libtcm.so.1 is not a symbolic link\n",
            "\n",
            "/sbin/ldconfig.real: /usr/local/lib/libtbbmalloc_proxy.so.2 is not a symbolic link\n",
            "\n",
            "/sbin/ldconfig.real: /usr/local/lib/libtbbbind_2_0.so.3 is not a symbolic link\n",
            "\n",
            "/sbin/ldconfig.real: /usr/local/lib/libtbbbind_2_5.so.3 is not a symbolic link\n",
            "\n",
            "/sbin/ldconfig.real: /usr/local/lib/libur_loader.so.0 is not a symbolic link\n",
            "\n",
            "/sbin/ldconfig.real: /usr/local/lib/libur_adapter_opencl.so.0 is not a symbolic link\n",
            "\n",
            "/sbin/ldconfig.real: /usr/local/lib/libur_adapter_level_zero.so.0 is not a symbolic link\n",
            "\n",
            "/sbin/ldconfig.real: /usr/local/lib/libumf.so.0 is not a symbolic link\n",
            "\n",
            "/sbin/ldconfig.real: /usr/local/lib/libhwloc.so.15 is not a symbolic link\n",
            "\n",
            "/sbin/ldconfig.real: /usr/local/lib/libtbbmalloc.so.2 is not a symbolic link\n",
            "\n",
            "/sbin/ldconfig.real: /usr/local/lib/libur_adapter_level_zero_v2.so.0 is not a symbolic link\n",
            "\n",
            "Collecting mecab-python3\n",
            "  Downloading mecab_python3-1.0.10-cp312-cp312-manylinux_2_17_x86_64.manylinux2014_x86_64.whl.metadata (6.2 kB)\n",
            "Downloading mecab_python3-1.0.10-cp312-cp312-manylinux_2_17_x86_64.manylinux2014_x86_64.whl (591 kB)\n",
            "\u001b[2K   \u001b[90m━━━━━━━━━━━━━━━━━━━━━━━━━━━━━━━━━━━━━━━━\u001b[0m \u001b[32m591.2/591.2 kB\u001b[0m \u001b[31m7.9 MB/s\u001b[0m eta \u001b[36m0:00:00\u001b[0m\n",
            "\u001b[?25hInstalling collected packages: mecab-python3\n",
            "Successfully installed mecab-python3-1.0.10\n",
            "私\tワタシ\t私\t名詞-代名詞-一般\t\t\n",
            "は\tハ\tは\t助詞-係助詞\t\t\n",
            "昨日\tキノウ\t昨日\t名詞-副詞可能\t\t\n",
            "、\t、\t、\t記号-読点\t\t\n",
            "図書館\tトショカン\t図書館\t名詞-一般\t\t\n",
            "へ\tヘ\tへ\t助詞-格助詞-一般\t\t\n",
            "行っ\tイッ\t行く\t動詞-自立\t五段・カ行促音便\t連用タ接続\n",
            "て\tテ\tて\t助詞-接続助詞\t\t\n",
            "本\tホン\t本\t名詞-一般\t\t\n",
            "を\tヲ\tを\t助詞-格助詞-一般\t\t\n",
            "読み\tヨミ\t読む\t動詞-自立\t五段・マ行\t連用形\n",
            "まし\tマシ\tます\t助動詞\t特殊・マス\t連用形\n",
            "た\tタ\tた\t助動詞\t特殊・タ\t基本形\n",
            "。\t。\t。\t記号-句点\t\t\n",
            "EOS\n",
            "\n"
          ]
        }
      ]
    },
    {
      "cell_type": "markdown",
      "id": "80e3790d-077d-453a-b981-964f609fc4be",
      "metadata": {
        "id": "80e3790d-077d-453a-b981-964f609fc4be"
      },
      "source": [
        "## 30. 動詞\n",
        "文章`text`に含まれる動詞をすべて表示せよ。"
      ]
    },
    {
      "cell_type": "code",
      "source": [
        "import MeCab\n",
        "\n",
        "mecab = MeCab.Tagger(\"-r /etc/mecabrc\")\n",
        "\n",
        "node = mecab.parseToNode(text)\n",
        "while node:\n",
        "    # 品詞情報は feature に入っている\n",
        "    features = node.feature.split(\",\")\n",
        "    if features[0] == \"動詞\":  # 品詞が動詞\n",
        "        print(node.surface)    # 単語の表層形を出力\n",
        "    node = node.next"
      ],
      "metadata": {
        "colab": {
          "base_uri": "https://localhost:8080/"
        },
        "id": "DLXdVSfhJj_F",
        "outputId": "bada495c-0f5d-4689-96b4-ff6e252c9bd0"
      },
      "id": "DLXdVSfhJj_F",
      "execution_count": 3,
      "outputs": [
        {
          "output_type": "stream",
          "name": "stdout",
          "text": [
            "し\n",
            "除か\n",
            "なら\n",
            "し\n",
            "わから\n",
            "吹き\n",
            "遊ん\n",
            "暮し\n",
            "来\n"
          ]
        }
      ]
    },
    {
      "cell_type": "markdown",
      "id": "5fd1d613-8375-4837-b534-a01451eddf98",
      "metadata": {
        "id": "5fd1d613-8375-4837-b534-a01451eddf98"
      },
      "source": [
        "## 31. 動詞の原型\n",
        "文章`text`に含まれる動詞と、その原型をすべて表示せよ。"
      ]
    },
    {
      "cell_type": "code",
      "source": [
        "node = mecab.parseToNode(text)\n",
        "while node:\n",
        "    # 品詞情報は feature に入っている\n",
        "    features = node.feature.split(\",\")\n",
        "    if features[0] == \"動詞\":  # 品詞が動詞\n",
        "        print(f'動詞:{node.surface},原型:{features[6]}')    # 単語の表層形を出力\n",
        "    node = node.next"
      ],
      "metadata": {
        "colab": {
          "base_uri": "https://localhost:8080/"
        },
        "id": "M7SVJ_45M6hj",
        "outputId": "a910d707-f968-41d5-fe0e-b4be17452f4c"
      },
      "id": "M7SVJ_45M6hj",
      "execution_count": 4,
      "outputs": [
        {
          "output_type": "stream",
          "name": "stdout",
          "text": [
            "動詞:し,原型:する\n",
            "動詞:除か,原型:除く\n",
            "動詞:なら,原型:なる\n",
            "動詞:し,原型:する\n",
            "動詞:わから,原型:わかる\n",
            "動詞:吹き,原型:吹く\n",
            "動詞:遊ん,原型:遊ぶ\n",
            "動詞:暮し,原型:暮す\n",
            "動詞:来,原型:来る\n"
          ]
        }
      ]
    },
    {
      "cell_type": "markdown",
      "id": "34558343-a286-429b-b3ee-b1e6b3ca4561",
      "metadata": {
        "id": "34558343-a286-429b-b3ee-b1e6b3ca4561"
      },
      "source": [
        "## 32. 「AのB」\n",
        "文章`text`において、2つの名詞が「の」で連結されている名詞句をすべて抽出せよ。"
      ]
    },
    {
      "cell_type": "code",
      "source": [
        "node = mecab.parseToNode(text)\n",
        "results=[]\n",
        "\n",
        "while node:\n",
        "  features = node.feature.split(\",\")\n",
        "  # 品詞情報が名詞か\n",
        "  if features[0] == \"名詞\":  # 品詞が動詞\n",
        "    first = node.surface\n",
        "    next1=node.next\n",
        "    if next1:\n",
        "      features2 = next1.feature.split(\",\")\n",
        "      #次がの\n",
        "      if features2[0] == \"助詞\" and features2[6] == \"の\":\n",
        "        next2=next1.next\n",
        "        if next2:\n",
        "          features3 = next2.feature.split(\",\")\n",
        "          #次が名詞\n",
        "          if features3[0] == \"名詞\":\n",
        "            second = next2.surface\n",
        "            results.append(f'{first}の{second}')\n",
        "\n",
        "  node = node.next\n",
        "for phrase in results:\n",
        "    print(phrase)"
      ],
      "metadata": {
        "colab": {
          "base_uri": "https://localhost:8080/"
        },
        "id": "0pSr189_Nfl4",
        "outputId": "0cf5ac39-fef6-4c34-e688-dc029f4b1354"
      },
      "id": "0pSr189_Nfl4",
      "execution_count": 5,
      "outputs": [
        {
          "output_type": "stream",
          "name": "stdout",
          "text": [
            "暴虐の王\n",
            "村の牧人\n"
          ]
        }
      ]
    },
    {
      "cell_type": "markdown",
      "id": "7cac9c74-cd83-42d3-8cde-a4a0f4200094",
      "metadata": {
        "id": "7cac9c74-cd83-42d3-8cde-a4a0f4200094"
      },
      "source": [
        "## 33. 係り受け解析\n",
        "\n",
        "文章`text`に係り受け解析を適用し、係り元と係り先のトークン（形態素や文節などの単位）をタブ区切り形式ですべて抽出せよ。"
      ]
    },
    {
      "cell_type": "code",
      "source": [
        "!pip install -U ginza\n",
        "!python -m spacy download ja_ginza"
      ],
      "metadata": {
        "id": "Wh5u4cTUQF_R",
        "outputId": "5e7a8354-6b88-48ce-a4bd-23ed15273a6e",
        "colab": {
          "base_uri": "https://localhost:8080/"
        }
      },
      "id": "Wh5u4cTUQF_R",
      "execution_count": 6,
      "outputs": [
        {
          "output_type": "stream",
          "name": "stdout",
          "text": [
            "Collecting ginza\n",
            "  Downloading ginza-5.2.0-py3-none-any.whl.metadata (448 bytes)\n",
            "Requirement already satisfied: spacy<4.0.0,>=3.4.4 in /usr/local/lib/python3.12/dist-packages (from ginza) (3.8.7)\n",
            "Collecting plac>=1.3.3 (from ginza)\n",
            "  Downloading plac-1.4.5-py2.py3-none-any.whl.metadata (5.9 kB)\n",
            "Collecting SudachiPy<0.7.0,>=0.6.2 (from ginza)\n",
            "  Downloading SudachiPy-0.6.10-cp312-cp312-manylinux_2_17_x86_64.manylinux2014_x86_64.whl.metadata (12 kB)\n",
            "Collecting SudachiDict-core>=20210802 (from ginza)\n",
            "  Downloading sudachidict_core-20250515-py3-none-any.whl.metadata (2.7 kB)\n",
            "Requirement already satisfied: spacy-legacy<3.1.0,>=3.0.11 in /usr/local/lib/python3.12/dist-packages (from spacy<4.0.0,>=3.4.4->ginza) (3.0.12)\n",
            "Requirement already satisfied: spacy-loggers<2.0.0,>=1.0.0 in /usr/local/lib/python3.12/dist-packages (from spacy<4.0.0,>=3.4.4->ginza) (1.0.5)\n",
            "Requirement already satisfied: murmurhash<1.1.0,>=0.28.0 in /usr/local/lib/python3.12/dist-packages (from spacy<4.0.0,>=3.4.4->ginza) (1.0.13)\n",
            "Requirement already satisfied: cymem<2.1.0,>=2.0.2 in /usr/local/lib/python3.12/dist-packages (from spacy<4.0.0,>=3.4.4->ginza) (2.0.11)\n",
            "Requirement already satisfied: preshed<3.1.0,>=3.0.2 in /usr/local/lib/python3.12/dist-packages (from spacy<4.0.0,>=3.4.4->ginza) (3.0.10)\n",
            "Requirement already satisfied: thinc<8.4.0,>=8.3.4 in /usr/local/lib/python3.12/dist-packages (from spacy<4.0.0,>=3.4.4->ginza) (8.3.6)\n",
            "Requirement already satisfied: wasabi<1.2.0,>=0.9.1 in /usr/local/lib/python3.12/dist-packages (from spacy<4.0.0,>=3.4.4->ginza) (1.1.3)\n",
            "Requirement already satisfied: srsly<3.0.0,>=2.4.3 in /usr/local/lib/python3.12/dist-packages (from spacy<4.0.0,>=3.4.4->ginza) (2.5.1)\n",
            "Requirement already satisfied: catalogue<2.1.0,>=2.0.6 in /usr/local/lib/python3.12/dist-packages (from spacy<4.0.0,>=3.4.4->ginza) (2.0.10)\n",
            "Requirement already satisfied: weasel<0.5.0,>=0.1.0 in /usr/local/lib/python3.12/dist-packages (from spacy<4.0.0,>=3.4.4->ginza) (0.4.1)\n",
            "Requirement already satisfied: typer<1.0.0,>=0.3.0 in /usr/local/lib/python3.12/dist-packages (from spacy<4.0.0,>=3.4.4->ginza) (0.16.0)\n",
            "Requirement already satisfied: tqdm<5.0.0,>=4.38.0 in /usr/local/lib/python3.12/dist-packages (from spacy<4.0.0,>=3.4.4->ginza) (4.67.1)\n",
            "Requirement already satisfied: numpy>=1.19.0 in /usr/local/lib/python3.12/dist-packages (from spacy<4.0.0,>=3.4.4->ginza) (2.0.2)\n",
            "Requirement already satisfied: requests<3.0.0,>=2.13.0 in /usr/local/lib/python3.12/dist-packages (from spacy<4.0.0,>=3.4.4->ginza) (2.32.4)\n",
            "Requirement already satisfied: pydantic!=1.8,!=1.8.1,<3.0.0,>=1.7.4 in /usr/local/lib/python3.12/dist-packages (from spacy<4.0.0,>=3.4.4->ginza) (2.11.7)\n",
            "Requirement already satisfied: jinja2 in /usr/local/lib/python3.12/dist-packages (from spacy<4.0.0,>=3.4.4->ginza) (3.1.6)\n",
            "Requirement already satisfied: setuptools in /usr/local/lib/python3.12/dist-packages (from spacy<4.0.0,>=3.4.4->ginza) (75.2.0)\n",
            "Requirement already satisfied: packaging>=20.0 in /usr/local/lib/python3.12/dist-packages (from spacy<4.0.0,>=3.4.4->ginza) (25.0)\n",
            "Requirement already satisfied: langcodes<4.0.0,>=3.2.0 in /usr/local/lib/python3.12/dist-packages (from spacy<4.0.0,>=3.4.4->ginza) (3.5.0)\n",
            "Requirement already satisfied: language-data>=1.2 in /usr/local/lib/python3.12/dist-packages (from langcodes<4.0.0,>=3.2.0->spacy<4.0.0,>=3.4.4->ginza) (1.3.0)\n",
            "Requirement already satisfied: annotated-types>=0.6.0 in /usr/local/lib/python3.12/dist-packages (from pydantic!=1.8,!=1.8.1,<3.0.0,>=1.7.4->spacy<4.0.0,>=3.4.4->ginza) (0.7.0)\n",
            "Requirement already satisfied: pydantic-core==2.33.2 in /usr/local/lib/python3.12/dist-packages (from pydantic!=1.8,!=1.8.1,<3.0.0,>=1.7.4->spacy<4.0.0,>=3.4.4->ginza) (2.33.2)\n",
            "Requirement already satisfied: typing-extensions>=4.12.2 in /usr/local/lib/python3.12/dist-packages (from pydantic!=1.8,!=1.8.1,<3.0.0,>=1.7.4->spacy<4.0.0,>=3.4.4->ginza) (4.14.1)\n",
            "Requirement already satisfied: typing-inspection>=0.4.0 in /usr/local/lib/python3.12/dist-packages (from pydantic!=1.8,!=1.8.1,<3.0.0,>=1.7.4->spacy<4.0.0,>=3.4.4->ginza) (0.4.1)\n",
            "Requirement already satisfied: charset_normalizer<4,>=2 in /usr/local/lib/python3.12/dist-packages (from requests<3.0.0,>=2.13.0->spacy<4.0.0,>=3.4.4->ginza) (3.4.3)\n",
            "Requirement already satisfied: idna<4,>=2.5 in /usr/local/lib/python3.12/dist-packages (from requests<3.0.0,>=2.13.0->spacy<4.0.0,>=3.4.4->ginza) (3.10)\n",
            "Requirement already satisfied: urllib3<3,>=1.21.1 in /usr/local/lib/python3.12/dist-packages (from requests<3.0.0,>=2.13.0->spacy<4.0.0,>=3.4.4->ginza) (2.5.0)\n",
            "Requirement already satisfied: certifi>=2017.4.17 in /usr/local/lib/python3.12/dist-packages (from requests<3.0.0,>=2.13.0->spacy<4.0.0,>=3.4.4->ginza) (2025.8.3)\n",
            "Requirement already satisfied: blis<1.4.0,>=1.3.0 in /usr/local/lib/python3.12/dist-packages (from thinc<8.4.0,>=8.3.4->spacy<4.0.0,>=3.4.4->ginza) (1.3.0)\n",
            "Requirement already satisfied: confection<1.0.0,>=0.0.1 in /usr/local/lib/python3.12/dist-packages (from thinc<8.4.0,>=8.3.4->spacy<4.0.0,>=3.4.4->ginza) (0.1.5)\n",
            "Requirement already satisfied: click>=8.0.0 in /usr/local/lib/python3.12/dist-packages (from typer<1.0.0,>=0.3.0->spacy<4.0.0,>=3.4.4->ginza) (8.2.1)\n",
            "Requirement already satisfied: shellingham>=1.3.0 in /usr/local/lib/python3.12/dist-packages (from typer<1.0.0,>=0.3.0->spacy<4.0.0,>=3.4.4->ginza) (1.5.4)\n",
            "Requirement already satisfied: rich>=10.11.0 in /usr/local/lib/python3.12/dist-packages (from typer<1.0.0,>=0.3.0->spacy<4.0.0,>=3.4.4->ginza) (13.9.4)\n",
            "Requirement already satisfied: cloudpathlib<1.0.0,>=0.7.0 in /usr/local/lib/python3.12/dist-packages (from weasel<0.5.0,>=0.1.0->spacy<4.0.0,>=3.4.4->ginza) (0.21.1)\n",
            "Requirement already satisfied: smart-open<8.0.0,>=5.2.1 in /usr/local/lib/python3.12/dist-packages (from weasel<0.5.0,>=0.1.0->spacy<4.0.0,>=3.4.4->ginza) (7.3.0.post1)\n",
            "Requirement already satisfied: MarkupSafe>=2.0 in /usr/local/lib/python3.12/dist-packages (from jinja2->spacy<4.0.0,>=3.4.4->ginza) (3.0.2)\n",
            "Requirement already satisfied: marisa-trie>=1.1.0 in /usr/local/lib/python3.12/dist-packages (from language-data>=1.2->langcodes<4.0.0,>=3.2.0->spacy<4.0.0,>=3.4.4->ginza) (1.3.0)\n",
            "Requirement already satisfied: markdown-it-py>=2.2.0 in /usr/local/lib/python3.12/dist-packages (from rich>=10.11.0->typer<1.0.0,>=0.3.0->spacy<4.0.0,>=3.4.4->ginza) (4.0.0)\n",
            "Requirement already satisfied: pygments<3.0.0,>=2.13.0 in /usr/local/lib/python3.12/dist-packages (from rich>=10.11.0->typer<1.0.0,>=0.3.0->spacy<4.0.0,>=3.4.4->ginza) (2.19.2)\n",
            "Requirement already satisfied: wrapt in /usr/local/lib/python3.12/dist-packages (from smart-open<8.0.0,>=5.2.1->weasel<0.5.0,>=0.1.0->spacy<4.0.0,>=3.4.4->ginza) (1.17.3)\n",
            "Requirement already satisfied: mdurl~=0.1 in /usr/local/lib/python3.12/dist-packages (from markdown-it-py>=2.2.0->rich>=10.11.0->typer<1.0.0,>=0.3.0->spacy<4.0.0,>=3.4.4->ginza) (0.1.2)\n",
            "Downloading ginza-5.2.0-py3-none-any.whl (21 kB)\n",
            "Downloading plac-1.4.5-py2.py3-none-any.whl (22 kB)\n",
            "Downloading sudachidict_core-20250515-py3-none-any.whl (72.1 MB)\n",
            "\u001b[2K   \u001b[90m━━━━━━━━━━━━━━━━━━━━━━━━━━━━━━━━━━━━━━━━\u001b[0m \u001b[32m72.1/72.1 MB\u001b[0m \u001b[31m12.7 MB/s\u001b[0m eta \u001b[36m0:00:00\u001b[0m\n",
            "\u001b[?25hDownloading SudachiPy-0.6.10-cp312-cp312-manylinux_2_17_x86_64.manylinux2014_x86_64.whl (1.7 MB)\n",
            "\u001b[2K   \u001b[90m━━━━━━━━━━━━━━━━━━━━━━━━━━━━━━━━━━━━━━━━\u001b[0m \u001b[32m1.7/1.7 MB\u001b[0m \u001b[31m60.9 MB/s\u001b[0m eta \u001b[36m0:00:00\u001b[0m\n",
            "\u001b[?25hInstalling collected packages: SudachiPy, plac, SudachiDict-core, ginza\n",
            "Successfully installed SudachiDict-core-20250515 SudachiPy-0.6.10 ginza-5.2.0 plac-1.4.5\n",
            "\n",
            "\u001b[38;5;1m✘ No compatible package found for 'ja_ginza' (spaCy v3.8.7)\u001b[0m\n",
            "\n"
          ]
        }
      ]
    },
    {
      "cell_type": "code",
      "source": [
        "!pip install ginza ja-ginza"
      ],
      "metadata": {
        "id": "pF8pBESkRoao",
        "outputId": "b6393540-f50b-4b10-ce67-3c169c434a79",
        "colab": {
          "base_uri": "https://localhost:8080/"
        }
      },
      "id": "pF8pBESkRoao",
      "execution_count": 7,
      "outputs": [
        {
          "output_type": "stream",
          "name": "stdout",
          "text": [
            "Requirement already satisfied: ginza in /usr/local/lib/python3.12/dist-packages (5.2.0)\n",
            "Collecting ja-ginza\n",
            "  Downloading ja_ginza-5.2.0-py3-none-any.whl.metadata (5.8 kB)\n",
            "Requirement already satisfied: spacy<4.0.0,>=3.4.4 in /usr/local/lib/python3.12/dist-packages (from ginza) (3.8.7)\n",
            "Requirement already satisfied: plac>=1.3.3 in /usr/local/lib/python3.12/dist-packages (from ginza) (1.4.5)\n",
            "Requirement already satisfied: SudachiPy<0.7.0,>=0.6.2 in /usr/local/lib/python3.12/dist-packages (from ginza) (0.6.10)\n",
            "Requirement already satisfied: SudachiDict-core>=20210802 in /usr/local/lib/python3.12/dist-packages (from ginza) (20250515)\n",
            "Requirement already satisfied: spacy-legacy<3.1.0,>=3.0.11 in /usr/local/lib/python3.12/dist-packages (from spacy<4.0.0,>=3.4.4->ginza) (3.0.12)\n",
            "Requirement already satisfied: spacy-loggers<2.0.0,>=1.0.0 in /usr/local/lib/python3.12/dist-packages (from spacy<4.0.0,>=3.4.4->ginza) (1.0.5)\n",
            "Requirement already satisfied: murmurhash<1.1.0,>=0.28.0 in /usr/local/lib/python3.12/dist-packages (from spacy<4.0.0,>=3.4.4->ginza) (1.0.13)\n",
            "Requirement already satisfied: cymem<2.1.0,>=2.0.2 in /usr/local/lib/python3.12/dist-packages (from spacy<4.0.0,>=3.4.4->ginza) (2.0.11)\n",
            "Requirement already satisfied: preshed<3.1.0,>=3.0.2 in /usr/local/lib/python3.12/dist-packages (from spacy<4.0.0,>=3.4.4->ginza) (3.0.10)\n",
            "Requirement already satisfied: thinc<8.4.0,>=8.3.4 in /usr/local/lib/python3.12/dist-packages (from spacy<4.0.0,>=3.4.4->ginza) (8.3.6)\n",
            "Requirement already satisfied: wasabi<1.2.0,>=0.9.1 in /usr/local/lib/python3.12/dist-packages (from spacy<4.0.0,>=3.4.4->ginza) (1.1.3)\n",
            "Requirement already satisfied: srsly<3.0.0,>=2.4.3 in /usr/local/lib/python3.12/dist-packages (from spacy<4.0.0,>=3.4.4->ginza) (2.5.1)\n",
            "Requirement already satisfied: catalogue<2.1.0,>=2.0.6 in /usr/local/lib/python3.12/dist-packages (from spacy<4.0.0,>=3.4.4->ginza) (2.0.10)\n",
            "Requirement already satisfied: weasel<0.5.0,>=0.1.0 in /usr/local/lib/python3.12/dist-packages (from spacy<4.0.0,>=3.4.4->ginza) (0.4.1)\n",
            "Requirement already satisfied: typer<1.0.0,>=0.3.0 in /usr/local/lib/python3.12/dist-packages (from spacy<4.0.0,>=3.4.4->ginza) (0.16.0)\n",
            "Requirement already satisfied: tqdm<5.0.0,>=4.38.0 in /usr/local/lib/python3.12/dist-packages (from spacy<4.0.0,>=3.4.4->ginza) (4.67.1)\n",
            "Requirement already satisfied: numpy>=1.19.0 in /usr/local/lib/python3.12/dist-packages (from spacy<4.0.0,>=3.4.4->ginza) (2.0.2)\n",
            "Requirement already satisfied: requests<3.0.0,>=2.13.0 in /usr/local/lib/python3.12/dist-packages (from spacy<4.0.0,>=3.4.4->ginza) (2.32.4)\n",
            "Requirement already satisfied: pydantic!=1.8,!=1.8.1,<3.0.0,>=1.7.4 in /usr/local/lib/python3.12/dist-packages (from spacy<4.0.0,>=3.4.4->ginza) (2.11.7)\n",
            "Requirement already satisfied: jinja2 in /usr/local/lib/python3.12/dist-packages (from spacy<4.0.0,>=3.4.4->ginza) (3.1.6)\n",
            "Requirement already satisfied: setuptools in /usr/local/lib/python3.12/dist-packages (from spacy<4.0.0,>=3.4.4->ginza) (75.2.0)\n",
            "Requirement already satisfied: packaging>=20.0 in /usr/local/lib/python3.12/dist-packages (from spacy<4.0.0,>=3.4.4->ginza) (25.0)\n",
            "Requirement already satisfied: langcodes<4.0.0,>=3.2.0 in /usr/local/lib/python3.12/dist-packages (from spacy<4.0.0,>=3.4.4->ginza) (3.5.0)\n",
            "Requirement already satisfied: language-data>=1.2 in /usr/local/lib/python3.12/dist-packages (from langcodes<4.0.0,>=3.2.0->spacy<4.0.0,>=3.4.4->ginza) (1.3.0)\n",
            "Requirement already satisfied: annotated-types>=0.6.0 in /usr/local/lib/python3.12/dist-packages (from pydantic!=1.8,!=1.8.1,<3.0.0,>=1.7.4->spacy<4.0.0,>=3.4.4->ginza) (0.7.0)\n",
            "Requirement already satisfied: pydantic-core==2.33.2 in /usr/local/lib/python3.12/dist-packages (from pydantic!=1.8,!=1.8.1,<3.0.0,>=1.7.4->spacy<4.0.0,>=3.4.4->ginza) (2.33.2)\n",
            "Requirement already satisfied: typing-extensions>=4.12.2 in /usr/local/lib/python3.12/dist-packages (from pydantic!=1.8,!=1.8.1,<3.0.0,>=1.7.4->spacy<4.0.0,>=3.4.4->ginza) (4.14.1)\n",
            "Requirement already satisfied: typing-inspection>=0.4.0 in /usr/local/lib/python3.12/dist-packages (from pydantic!=1.8,!=1.8.1,<3.0.0,>=1.7.4->spacy<4.0.0,>=3.4.4->ginza) (0.4.1)\n",
            "Requirement already satisfied: charset_normalizer<4,>=2 in /usr/local/lib/python3.12/dist-packages (from requests<3.0.0,>=2.13.0->spacy<4.0.0,>=3.4.4->ginza) (3.4.3)\n",
            "Requirement already satisfied: idna<4,>=2.5 in /usr/local/lib/python3.12/dist-packages (from requests<3.0.0,>=2.13.0->spacy<4.0.0,>=3.4.4->ginza) (3.10)\n",
            "Requirement already satisfied: urllib3<3,>=1.21.1 in /usr/local/lib/python3.12/dist-packages (from requests<3.0.0,>=2.13.0->spacy<4.0.0,>=3.4.4->ginza) (2.5.0)\n",
            "Requirement already satisfied: certifi>=2017.4.17 in /usr/local/lib/python3.12/dist-packages (from requests<3.0.0,>=2.13.0->spacy<4.0.0,>=3.4.4->ginza) (2025.8.3)\n",
            "Requirement already satisfied: blis<1.4.0,>=1.3.0 in /usr/local/lib/python3.12/dist-packages (from thinc<8.4.0,>=8.3.4->spacy<4.0.0,>=3.4.4->ginza) (1.3.0)\n",
            "Requirement already satisfied: confection<1.0.0,>=0.0.1 in /usr/local/lib/python3.12/dist-packages (from thinc<8.4.0,>=8.3.4->spacy<4.0.0,>=3.4.4->ginza) (0.1.5)\n",
            "Requirement already satisfied: click>=8.0.0 in /usr/local/lib/python3.12/dist-packages (from typer<1.0.0,>=0.3.0->spacy<4.0.0,>=3.4.4->ginza) (8.2.1)\n",
            "Requirement already satisfied: shellingham>=1.3.0 in /usr/local/lib/python3.12/dist-packages (from typer<1.0.0,>=0.3.0->spacy<4.0.0,>=3.4.4->ginza) (1.5.4)\n",
            "Requirement already satisfied: rich>=10.11.0 in /usr/local/lib/python3.12/dist-packages (from typer<1.0.0,>=0.3.0->spacy<4.0.0,>=3.4.4->ginza) (13.9.4)\n",
            "Requirement already satisfied: cloudpathlib<1.0.0,>=0.7.0 in /usr/local/lib/python3.12/dist-packages (from weasel<0.5.0,>=0.1.0->spacy<4.0.0,>=3.4.4->ginza) (0.21.1)\n",
            "Requirement already satisfied: smart-open<8.0.0,>=5.2.1 in /usr/local/lib/python3.12/dist-packages (from weasel<0.5.0,>=0.1.0->spacy<4.0.0,>=3.4.4->ginza) (7.3.0.post1)\n",
            "Requirement already satisfied: MarkupSafe>=2.0 in /usr/local/lib/python3.12/dist-packages (from jinja2->spacy<4.0.0,>=3.4.4->ginza) (3.0.2)\n",
            "Requirement already satisfied: marisa-trie>=1.1.0 in /usr/local/lib/python3.12/dist-packages (from language-data>=1.2->langcodes<4.0.0,>=3.2.0->spacy<4.0.0,>=3.4.4->ginza) (1.3.0)\n",
            "Requirement already satisfied: markdown-it-py>=2.2.0 in /usr/local/lib/python3.12/dist-packages (from rich>=10.11.0->typer<1.0.0,>=0.3.0->spacy<4.0.0,>=3.4.4->ginza) (4.0.0)\n",
            "Requirement already satisfied: pygments<3.0.0,>=2.13.0 in /usr/local/lib/python3.12/dist-packages (from rich>=10.11.0->typer<1.0.0,>=0.3.0->spacy<4.0.0,>=3.4.4->ginza) (2.19.2)\n",
            "Requirement already satisfied: wrapt in /usr/local/lib/python3.12/dist-packages (from smart-open<8.0.0,>=5.2.1->weasel<0.5.0,>=0.1.0->spacy<4.0.0,>=3.4.4->ginza) (1.17.3)\n",
            "Requirement already satisfied: mdurl~=0.1 in /usr/local/lib/python3.12/dist-packages (from markdown-it-py>=2.2.0->rich>=10.11.0->typer<1.0.0,>=0.3.0->spacy<4.0.0,>=3.4.4->ginza) (0.1.2)\n",
            "Downloading ja_ginza-5.2.0-py3-none-any.whl (59.1 MB)\n",
            "\u001b[2K   \u001b[90m━━━━━━━━━━━━━━━━━━━━━━━━━━━━━━━━━━━━━━━━\u001b[0m \u001b[32m59.1/59.1 MB\u001b[0m \u001b[31m10.9 MB/s\u001b[0m eta \u001b[36m0:00:00\u001b[0m\n",
            "\u001b[?25hInstalling collected packages: ja-ginza\n",
            "Successfully installed ja-ginza-5.2.0\n"
          ]
        }
      ]
    },
    {
      "cell_type": "code",
      "source": [
        "import spacy\n",
        "\n",
        "nlp = spacy.load(\"ja_ginza\")\n",
        "\n",
        "doc = nlp(text)\n",
        "\n",
        "for token in doc:\n",
        "    if token.dep_ != \"ROOT\":  # 係り先があるものだけ\n",
        "        print(f\"{token.head.text}\\t{token.text}\")"
      ],
      "metadata": {
        "id": "FwMMO7pkQoaq",
        "outputId": "ee83a35b-c6c7-406b-c7a3-6ba8286d6a6d",
        "colab": {
          "base_uri": "https://localhost:8080/"
        }
      },
      "id": "FwMMO7pkQoaq",
      "execution_count": 8,
      "outputs": [
        {
          "output_type": "stream",
          "name": "stdout",
          "text": [
            "メロス\t\n",
            "\n",
            "激怒\tメロス\n",
            "メロス\tは\n",
            "激怒\tし\n",
            "激怒\tた\n",
            "激怒\t。\n",
            "除か\t必ず\n",
            "必ず\t、\n",
            "暴虐\tかの\n",
            "暴虐\t邪智\n",
            "王\t暴虐\n",
            "暴虐\tの\n",
            "除か\t王\n",
            "王\tを\n",
            "決意\t除か\n",
            "除か\tなけれ\n",
            "なけれ\tば\n",
            "なけれ\tなら\n",
            "なけれ\tぬ\n",
            "除か\tと\n",
            "決意\tし\n",
            "決意\tた\n",
            "決意\t。\n",
            "メロス\t\n",
            "\n",
            "わから\tメロス\n",
            "メロス\tに\n",
            "メロス\tは\n",
            "わから\t政治\n",
            "政治\tが\n",
            "わから\tぬ\n",
            "わから\t。\n",
            "メロス\t\n",
            "\n",
            "牧人\tメロス\n",
            "メロス\tは\n",
            "メロス\t、\n",
            "牧人\t村\n",
            "村\tの\n",
            "牧人\tで\n",
            "で\tある\n",
            "牧人\t。\n",
            "笛\t\n",
            "\n",
            "吹き\t笛\n",
            "笛\tを\n",
            "暮し\t吹き\n",
            "吹き\t、\n",
            "遊ん\t羊\n",
            "羊\tと\n",
            "暮し\t遊ん\n",
            "遊ん\tで\n",
            "暮し\tて\n",
            "て\t来\n",
            "暮し\tた\n",
            "暮し\t。\n",
            "邪悪\t\n",
            "\n",
            "\n",
            "\tけれど\n",
            "\n",
            "\tも\n",
            "敏感\t邪悪\n",
            "邪悪\tに\n",
            "に\t対し\n",
            "に\tては\n",
            "邪悪\t、\n",
            "倍\t人\n",
            "倍\t一\n",
            "敏感\t倍\n",
            "倍\tに\n",
            "敏感\tで\n",
            "で\tあっ\n",
            "敏感\tた\n",
            "敏感\t。\n"
          ]
        }
      ]
    },
    {
      "cell_type": "markdown",
      "id": "eb49b4d2-9869-4f43-9cd8-9e79e0c1b40f",
      "metadata": {
        "id": "eb49b4d2-9869-4f43-9cd8-9e79e0c1b40f"
      },
      "source": [
        "## 34. 主述の関係\n",
        "文章`text`において、「メロス」が主語であるときの述語を抽出せよ。"
      ]
    },
    {
      "cell_type": "code",
      "source": [
        "\n",
        "for token in doc:\n",
        "    # tokenが動詞などの述語かつ、主語が「メロス」のものを探す\n",
        "    if token.pos_ in (\"VERB\", \"AUX\"):  # 動詞・助動詞\n",
        "        # その述語の主語を探す\n",
        "        for child in token.children:\n",
        "            if child.dep_ == \"nsubj\" and child.text == \"メロス\":\n",
        "                print(token.text)"
      ],
      "metadata": {
        "id": "cyjMvz4HRRs8",
        "outputId": "6bc52d23-7649-44e8-fa31-079b72e4878d",
        "colab": {
          "base_uri": "https://localhost:8080/"
        }
      },
      "id": "cyjMvz4HRRs8",
      "execution_count": 9,
      "outputs": [
        {
          "output_type": "stream",
          "name": "stdout",
          "text": [
            "激怒\n"
          ]
        }
      ]
    },
    {
      "cell_type": "markdown",
      "id": "ec8ba153-85e7-4cbe-bcc0-bb659409d494",
      "metadata": {
        "id": "ec8ba153-85e7-4cbe-bcc0-bb659409d494"
      },
      "source": [
        "## 35. 係り受け木\n",
        "「メロスは激怒した。」の係り受け木を可視化せよ。"
      ]
    },
    {
      "cell_type": "code",
      "source": [],
      "metadata": {
        "id": "uPe7DwCaynpx",
        "outputId": "27981c95-2f3c-4ccd-8a34-d2c54b13ff13",
        "colab": {
          "base_uri": "https://localhost:8080/"
        }
      },
      "id": "uPe7DwCaynpx",
      "execution_count": 11,
      "outputs": [
        {
          "output_type": "stream",
          "name": "stdout",
          "text": [
            "ERROR: unknown command \"spacy_streamlit\"\n"
          ]
        }
      ]
    },
    {
      "cell_type": "code",
      "source": [
        "import spacy\n",
        "\n",
        "# GiNZAのモデルをロード\n",
        "nlp = spacy.load(\"ja_ginza\")\n",
        "\n",
        "text = \"メロスは激怒した。\"\n",
        "doc = nlp(text)\n",
        "\n",
        "# 係り受け情報を表示\n",
        "for token in doc:\n",
        "    print(f\"{token.text:<5} -> {token.head.text:<5} ({token.dep_})\")\n",
        "\n",
        "# 可視化（Jupyterならspacy.displacy.renderを使える）\n",
        "from spacy import displacy\n",
        "displacy.render(doc, style=\"dep\", jupyter=True, options={\"compact\": True, \"distance\": 90})\n",
        "# 係り受け木を可視化\n",
        "displacy.serve(doc, style=\"dep\", port=8000)"
      ],
      "metadata": {
        "id": "8UVJtZ_dxctA",
        "outputId": "85ad9ca3-efcd-459e-964a-bb56863b09fd",
        "colab": {
          "base_uri": "https://localhost:8080/",
          "height": 915
        }
      },
      "id": "8UVJtZ_dxctA",
      "execution_count": 13,
      "outputs": [
        {
          "output_type": "stream",
          "name": "stdout",
          "text": [
            "メロス   -> 激怒    (nsubj)\n",
            "は     -> メロス   (case)\n",
            "激怒    -> 激怒    (ROOT)\n",
            "し     -> 激怒    (aux)\n",
            "た     -> 激怒    (aux)\n",
            "。     -> 激怒    (punct)\n"
          ]
        },
        {
          "output_type": "display_data",
          "data": {
            "text/plain": [
              "<IPython.core.display.HTML object>"
            ],
            "text/html": [
              "<span class=\"tex2jax_ignore\"><svg xmlns=\"http://www.w3.org/2000/svg\" xmlns:xlink=\"http://www.w3.org/1999/xlink\" xml:lang=\"ja\" id=\"28127e3b4f374a62b3beea1d4524a026-0\" class=\"displacy\" width=\"500\" height=\"227.0\" direction=\"ltr\" style=\"max-width: none; height: 227.0px; color: #000000; background: #ffffff; font-family: Arial; direction: ltr\">\n",
              "<text class=\"displacy-token\" fill=\"currentColor\" text-anchor=\"middle\" y=\"137.0\">\n",
              "    <tspan class=\"displacy-word\" fill=\"currentColor\" x=\"50\">メロス</tspan>\n",
              "    <tspan class=\"displacy-tag\" dy=\"2em\" fill=\"currentColor\" x=\"50\">PROPN</tspan>\n",
              "</text>\n",
              "\n",
              "<text class=\"displacy-token\" fill=\"currentColor\" text-anchor=\"middle\" y=\"137.0\">\n",
              "    <tspan class=\"displacy-word\" fill=\"currentColor\" x=\"140\">は</tspan>\n",
              "    <tspan class=\"displacy-tag\" dy=\"2em\" fill=\"currentColor\" x=\"140\">ADP</tspan>\n",
              "</text>\n",
              "\n",
              "<text class=\"displacy-token\" fill=\"currentColor\" text-anchor=\"middle\" y=\"137.0\">\n",
              "    <tspan class=\"displacy-word\" fill=\"currentColor\" x=\"230\">激怒</tspan>\n",
              "    <tspan class=\"displacy-tag\" dy=\"2em\" fill=\"currentColor\" x=\"230\">VERB</tspan>\n",
              "</text>\n",
              "\n",
              "<text class=\"displacy-token\" fill=\"currentColor\" text-anchor=\"middle\" y=\"137.0\">\n",
              "    <tspan class=\"displacy-word\" fill=\"currentColor\" x=\"320\">し</tspan>\n",
              "    <tspan class=\"displacy-tag\" dy=\"2em\" fill=\"currentColor\" x=\"320\">AUX</tspan>\n",
              "</text>\n",
              "\n",
              "<text class=\"displacy-token\" fill=\"currentColor\" text-anchor=\"middle\" y=\"137.0\">\n",
              "    <tspan class=\"displacy-word\" fill=\"currentColor\" x=\"410\">た。</tspan>\n",
              "    <tspan class=\"displacy-tag\" dy=\"2em\" fill=\"currentColor\" x=\"410\">AUX</tspan>\n",
              "</text>\n",
              "\n",
              "<g class=\"displacy-arrow\">\n",
              "    <path class=\"displacy-arc\" id=\"arrow-28127e3b4f374a62b3beea1d4524a026-0-0\" stroke-width=\"2px\" d=\"M62,92.0 62,62.0 230.0,62.0 230.0,92.0\" fill=\"none\" stroke=\"currentColor\"/>\n",
              "    <text dy=\"1.25em\" style=\"font-size: 0.8em; letter-spacing: 1px\">\n",
              "        <textPath xlink:href=\"#arrow-28127e3b4f374a62b3beea1d4524a026-0-0\" class=\"displacy-label\" startOffset=\"50%\" side=\"left\" fill=\"currentColor\" text-anchor=\"middle\">nsubj</textPath>\n",
              "    </text>\n",
              "    <path class=\"displacy-arrowhead\" d=\"M62,94.0 L58,86.0 66,86.0\" fill=\"currentColor\"/>\n",
              "</g>\n",
              "\n",
              "<g class=\"displacy-arrow\">\n",
              "    <path class=\"displacy-arc\" id=\"arrow-28127e3b4f374a62b3beea1d4524a026-0-1\" stroke-width=\"2px\" d=\"M62,92.0 62,77.0 137.0,77.0 137.0,92.0\" fill=\"none\" stroke=\"currentColor\"/>\n",
              "    <text dy=\"1.25em\" style=\"font-size: 0.8em; letter-spacing: 1px\">\n",
              "        <textPath xlink:href=\"#arrow-28127e3b4f374a62b3beea1d4524a026-0-1\" class=\"displacy-label\" startOffset=\"50%\" side=\"left\" fill=\"currentColor\" text-anchor=\"middle\">case</textPath>\n",
              "    </text>\n",
              "    <path class=\"displacy-arrowhead\" d=\"M137.0,94.0 L141.0,86.0 133.0,86.0\" fill=\"currentColor\"/>\n",
              "</g>\n",
              "\n",
              "<g class=\"displacy-arrow\">\n",
              "    <path class=\"displacy-arc\" id=\"arrow-28127e3b4f374a62b3beea1d4524a026-0-2\" stroke-width=\"2px\" d=\"M242,92.0 242,77.0 317.0,77.0 317.0,92.0\" fill=\"none\" stroke=\"currentColor\"/>\n",
              "    <text dy=\"1.25em\" style=\"font-size: 0.8em; letter-spacing: 1px\">\n",
              "        <textPath xlink:href=\"#arrow-28127e3b4f374a62b3beea1d4524a026-0-2\" class=\"displacy-label\" startOffset=\"50%\" side=\"left\" fill=\"currentColor\" text-anchor=\"middle\">aux</textPath>\n",
              "    </text>\n",
              "    <path class=\"displacy-arrowhead\" d=\"M317.0,94.0 L321.0,86.0 313.0,86.0\" fill=\"currentColor\"/>\n",
              "</g>\n",
              "\n",
              "<g class=\"displacy-arrow\">\n",
              "    <path class=\"displacy-arc\" id=\"arrow-28127e3b4f374a62b3beea1d4524a026-0-3\" stroke-width=\"2px\" d=\"M242,92.0 242,62.0 410.0,62.0 410.0,92.0\" fill=\"none\" stroke=\"currentColor\"/>\n",
              "    <text dy=\"1.25em\" style=\"font-size: 0.8em; letter-spacing: 1px\">\n",
              "        <textPath xlink:href=\"#arrow-28127e3b4f374a62b3beea1d4524a026-0-3\" class=\"displacy-label\" startOffset=\"50%\" side=\"left\" fill=\"currentColor\" text-anchor=\"middle\">aux</textPath>\n",
              "    </text>\n",
              "    <path class=\"displacy-arrowhead\" d=\"M410.0,94.0 L414.0,86.0 406.0,86.0\" fill=\"currentColor\"/>\n",
              "</g>\n",
              "</svg></span>"
            ]
          },
          "metadata": {}
        },
        {
          "output_type": "stream",
          "name": "stderr",
          "text": [
            "/usr/local/lib/python3.12/dist-packages/spacy/displacy/__init__.py:106: UserWarning: [W011] It looks like you're calling displacy.serve from within a Jupyter notebook or a similar environment. This likely means you're already running a local web server, so there's no need to make displaCy start another one. Instead, you should be able to replace displacy.serve with displacy.render to show the visualization.\n",
            "  warnings.warn(Warnings.W011)\n"
          ]
        },
        {
          "output_type": "display_data",
          "data": {
            "text/plain": [
              "<IPython.core.display.HTML object>"
            ],
            "text/html": [
              "<span class=\"tex2jax_ignore\"><!DOCTYPE html>\n",
              "<html lang=\"ja\">\n",
              "    <head>\n",
              "        <title>displaCy</title>\n",
              "    </head>\n",
              "\n",
              "    <body style=\"font-size: 16px; font-family: -apple-system, BlinkMacSystemFont, 'Segoe UI', Helvetica, Arial, sans-serif, 'Apple Color Emoji', 'Segoe UI Emoji', 'Segoe UI Symbol'; padding: 4rem 2rem; direction: ltr\">\n",
              "<figure style=\"margin-bottom: 6rem\">\n",
              "<svg xmlns=\"http://www.w3.org/2000/svg\" xmlns:xlink=\"http://www.w3.org/1999/xlink\" xml:lang=\"ja\" id=\"3f6aa9841d804e36b6debcff0acf8732-0\" class=\"displacy\" width=\"925\" height=\"312.0\" direction=\"ltr\" style=\"max-width: none; height: 312.0px; color: #000000; background: #ffffff; font-family: Arial; direction: ltr\">\n",
              "<text class=\"displacy-token\" fill=\"currentColor\" text-anchor=\"middle\" y=\"222.0\">\n",
              "    <tspan class=\"displacy-word\" fill=\"currentColor\" x=\"50\">メロス</tspan>\n",
              "    <tspan class=\"displacy-tag\" dy=\"2em\" fill=\"currentColor\" x=\"50\">PROPN</tspan>\n",
              "</text>\n",
              "\n",
              "<text class=\"displacy-token\" fill=\"currentColor\" text-anchor=\"middle\" y=\"222.0\">\n",
              "    <tspan class=\"displacy-word\" fill=\"currentColor\" x=\"225\">は</tspan>\n",
              "    <tspan class=\"displacy-tag\" dy=\"2em\" fill=\"currentColor\" x=\"225\">ADP</tspan>\n",
              "</text>\n",
              "\n",
              "<text class=\"displacy-token\" fill=\"currentColor\" text-anchor=\"middle\" y=\"222.0\">\n",
              "    <tspan class=\"displacy-word\" fill=\"currentColor\" x=\"400\">激怒</tspan>\n",
              "    <tspan class=\"displacy-tag\" dy=\"2em\" fill=\"currentColor\" x=\"400\">VERB</tspan>\n",
              "</text>\n",
              "\n",
              "<text class=\"displacy-token\" fill=\"currentColor\" text-anchor=\"middle\" y=\"222.0\">\n",
              "    <tspan class=\"displacy-word\" fill=\"currentColor\" x=\"575\">し</tspan>\n",
              "    <tspan class=\"displacy-tag\" dy=\"2em\" fill=\"currentColor\" x=\"575\">AUX</tspan>\n",
              "</text>\n",
              "\n",
              "<text class=\"displacy-token\" fill=\"currentColor\" text-anchor=\"middle\" y=\"222.0\">\n",
              "    <tspan class=\"displacy-word\" fill=\"currentColor\" x=\"750\">た。</tspan>\n",
              "    <tspan class=\"displacy-tag\" dy=\"2em\" fill=\"currentColor\" x=\"750\">AUX</tspan>\n",
              "</text>\n",
              "\n",
              "<g class=\"displacy-arrow\">\n",
              "    <path class=\"displacy-arc\" id=\"arrow-3f6aa9841d804e36b6debcff0acf8732-0-0\" stroke-width=\"2px\" d=\"M70,177.0 C70,2.0 400.0,2.0 400.0,177.0\" fill=\"none\" stroke=\"currentColor\"/>\n",
              "    <text dy=\"1.25em\" style=\"font-size: 0.8em; letter-spacing: 1px\">\n",
              "        <textPath xlink:href=\"#arrow-3f6aa9841d804e36b6debcff0acf8732-0-0\" class=\"displacy-label\" startOffset=\"50%\" side=\"left\" fill=\"currentColor\" text-anchor=\"middle\">nsubj</textPath>\n",
              "    </text>\n",
              "    <path class=\"displacy-arrowhead\" d=\"M70,179.0 L62,167.0 78,167.0\" fill=\"currentColor\"/>\n",
              "</g>\n",
              "\n",
              "<g class=\"displacy-arrow\">\n",
              "    <path class=\"displacy-arc\" id=\"arrow-3f6aa9841d804e36b6debcff0acf8732-0-1\" stroke-width=\"2px\" d=\"M70,177.0 C70,89.5 220.0,89.5 220.0,177.0\" fill=\"none\" stroke=\"currentColor\"/>\n",
              "    <text dy=\"1.25em\" style=\"font-size: 0.8em; letter-spacing: 1px\">\n",
              "        <textPath xlink:href=\"#arrow-3f6aa9841d804e36b6debcff0acf8732-0-1\" class=\"displacy-label\" startOffset=\"50%\" side=\"left\" fill=\"currentColor\" text-anchor=\"middle\">case</textPath>\n",
              "    </text>\n",
              "    <path class=\"displacy-arrowhead\" d=\"M220.0,179.0 L228.0,167.0 212.0,167.0\" fill=\"currentColor\"/>\n",
              "</g>\n",
              "\n",
              "<g class=\"displacy-arrow\">\n",
              "    <path class=\"displacy-arc\" id=\"arrow-3f6aa9841d804e36b6debcff0acf8732-0-2\" stroke-width=\"2px\" d=\"M420,177.0 C420,89.5 570.0,89.5 570.0,177.0\" fill=\"none\" stroke=\"currentColor\"/>\n",
              "    <text dy=\"1.25em\" style=\"font-size: 0.8em; letter-spacing: 1px\">\n",
              "        <textPath xlink:href=\"#arrow-3f6aa9841d804e36b6debcff0acf8732-0-2\" class=\"displacy-label\" startOffset=\"50%\" side=\"left\" fill=\"currentColor\" text-anchor=\"middle\">aux</textPath>\n",
              "    </text>\n",
              "    <path class=\"displacy-arrowhead\" d=\"M570.0,179.0 L578.0,167.0 562.0,167.0\" fill=\"currentColor\"/>\n",
              "</g>\n",
              "\n",
              "<g class=\"displacy-arrow\">\n",
              "    <path class=\"displacy-arc\" id=\"arrow-3f6aa9841d804e36b6debcff0acf8732-0-3\" stroke-width=\"2px\" d=\"M420,177.0 C420,2.0 750.0,2.0 750.0,177.0\" fill=\"none\" stroke=\"currentColor\"/>\n",
              "    <text dy=\"1.25em\" style=\"font-size: 0.8em; letter-spacing: 1px\">\n",
              "        <textPath xlink:href=\"#arrow-3f6aa9841d804e36b6debcff0acf8732-0-3\" class=\"displacy-label\" startOffset=\"50%\" side=\"left\" fill=\"currentColor\" text-anchor=\"middle\">aux</textPath>\n",
              "    </text>\n",
              "    <path class=\"displacy-arrowhead\" d=\"M750.0,179.0 L758.0,167.0 742.0,167.0\" fill=\"currentColor\"/>\n",
              "</g>\n",
              "</svg>\n",
              "</figure>\n",
              "</body>\n",
              "</html></span>"
            ]
          },
          "metadata": {}
        },
        {
          "output_type": "stream",
          "name": "stdout",
          "text": [
            "\n",
            "Using the 'dep' visualizer\n",
            "Serving on http://0.0.0.0:8000 ...\n",
            "\n",
            "Shutting down server on port 8000.\n"
          ]
        }
      ]
    },
    {
      "cell_type": "markdown",
      "id": "b880d760-ea6c-4722-9a65-5b97a02ed192",
      "metadata": {
        "id": "b880d760-ea6c-4722-9a65-5b97a02ed192"
      },
      "source": [
        "## 36. 単語の出現頻度\n",
        "\n",
        "問題36から39までは、Wikipediaの記事を以下のフォーマットで書き出したファイル[jawiki-country.json.gz](/data/jawiki-country.json.gz)をコーパスと見なし、統計的な分析を行う。\n",
        "\n",
        "* 1行に1記事の情報がJSON形式で格納される\n",
        "* 各行には記事名が\"title\"キーに、記事本文が\"text\"キーの辞書オブジェクトに格納され、そのオブジェクトがJSON形式で書き出される\n",
        "* ファイル全体はgzipで圧縮される\n",
        "\n",
        "まず、第3章の処理内容を参考に、Wikipedia記事からマークアップを除去し、各記事のテキストを抽出せよ。そして、コーパスにおける単語（形態素）の出現頻度を求め、出現頻度の高い20語とその出現頻度を表示せよ。"
      ]
    },
    {
      "cell_type": "code",
      "source": [
        "!wget https://github.com/nlp100/2025/raw/refs/heads/main/data/jawiki-country.json.gz"
      ],
      "metadata": {
        "id": "ZEBuxhgN0hdq",
        "outputId": "cf87b43b-7605-475b-8f83-2d3c15b8b7dc",
        "colab": {
          "base_uri": "https://localhost:8080/"
        }
      },
      "id": "ZEBuxhgN0hdq",
      "execution_count": 14,
      "outputs": [
        {
          "output_type": "stream",
          "name": "stdout",
          "text": [
            "--2025-08-24 16:04:21--  https://github.com/nlp100/2025/raw/refs/heads/main/data/jawiki-country.json.gz\n",
            "Resolving github.com (github.com)... 140.82.112.4\n",
            "Connecting to github.com (github.com)|140.82.112.4|:443... connected.\n",
            "HTTP request sent, awaiting response... 302 Found\n",
            "Location: https://raw.githubusercontent.com/nlp100/2025/refs/heads/main/data/jawiki-country.json.gz [following]\n",
            "--2025-08-24 16:04:22--  https://raw.githubusercontent.com/nlp100/2025/refs/heads/main/data/jawiki-country.json.gz\n",
            "Resolving raw.githubusercontent.com (raw.githubusercontent.com)... 185.199.108.133, 185.199.109.133, 185.199.110.133, ...\n",
            "Connecting to raw.githubusercontent.com (raw.githubusercontent.com)|185.199.108.133|:443... connected.\n",
            "HTTP request sent, awaiting response... 200 OK\n",
            "Length: 5068362 (4.8M) [application/octet-stream]\n",
            "Saving to: ‘jawiki-country.json.gz’\n",
            "\n",
            "jawiki-country.json 100%[===================>]   4.83M  --.-KB/s    in 0.08s   \n",
            "\n",
            "2025-08-24 16:04:22 (57.0 MB/s) - ‘jawiki-country.json.gz’ saved [5068362/5068362]\n",
            "\n"
          ]
        }
      ]
    },
    {
      "cell_type": "code",
      "source": [
        "!ls"
      ],
      "metadata": {
        "id": "KZ4G-IhG0udc",
        "outputId": "df09575a-6d32-434e-8197-77f311f4c066",
        "colab": {
          "base_uri": "https://localhost:8080/"
        }
      },
      "id": "KZ4G-IhG0udc",
      "execution_count": 15,
      "outputs": [
        {
          "output_type": "stream",
          "name": "stdout",
          "text": [
            "jawiki-country.json.gz\tsample_data\n"
          ]
        }
      ]
    },
    {
      "cell_type": "code",
      "source": [
        "import gzip\n",
        "import json\n",
        "import re\n",
        "from collections import Counter\n",
        "import MeCab\n",
        "\n",
        "# 形態素解析器の準備\n",
        "mecab = MeCab.Tagger(\"-r /etc/mecabrc -Owakati\")\n",
        "\n",
        "def clean_text(text):\n",
        "    \"\"\"Wikipediaのマークアップをざっくり除去\"\"\"\n",
        "    text = re.sub(r\"\\{\\{.*?\\}\\}\", \"\", text)  # {{ }} テンプレート除去\n",
        "    text = re.sub(r\"\\[\\[.*?\\|(.*?)\\]\\]\", r\"\\1\", text)  # [[記事名|表示名]] → 表示名\n",
        "    text = re.sub(r\"\\[\\[(.*?)\\]\\]\", r\"\\1\", text)  # [[記事名]] → 記事名\n",
        "    text = re.sub(r\"<.*?>\", \"\", text)  # <ref> など除去\n",
        "    text = re.sub(r\"'{2,}\", \"\", text)  # '' 強調記号除去\n",
        "    return text\n",
        "\n",
        "word_counter = Counter()\n",
        "\n",
        "# gzipファイルを読み込む\n",
        "with gzip.open(\"jawiki-country.json.gz\", \"rt\", encoding=\"utf-8\") as f:\n",
        "    for line in f:\n",
        "        article = json.loads(line)  # 1行 = 1記事のJSON\n",
        "        text = article.get(\"text\", \"\")\n",
        "        text = clean_text(text)  # マークアップ除去\n",
        "        words = mecab.parse(text).strip().split()  # 分かち書き\n",
        "        word_counter.update(words)\n",
        "\n",
        "# 頻度上位20語を表示\n",
        "for word, freq in word_counter.most_common(20):\n",
        "    print(word, freq)"
      ],
      "metadata": {
        "id": "6a5X4PDZ0OCO",
        "outputId": "d0ede766-73cf-46bf-bf36-9ef1c7c313d9",
        "colab": {
          "base_uri": "https://localhost:8080/"
        }
      },
      "id": "6a5X4PDZ0OCO",
      "execution_count": 17,
      "outputs": [
        {
          "output_type": "stream",
          "name": "stdout",
          "text": [
            "の 75069\n",
            "、 69322\n",
            "。 44969\n",
            "は 43248\n",
            "に 40054\n",
            "が 36601\n",
            "| 33160\n",
            "を 31355\n",
            "た 28257\n",
            "で 28204\n",
            ". 23044\n",
            "と 22917\n",
            "年 22033\n",
            "て 21833\n",
            "し 20477\n",
            "= 20394\n",
            "） 15520\n",
            "/ 15385\n",
            "（ 15246\n",
            "- 12185\n"
          ]
        }
      ]
    },
    {
      "cell_type": "markdown",
      "id": "e38bd27c-0644-4468-8b4d-99318b91c0cb",
      "metadata": {
        "id": "e38bd27c-0644-4468-8b4d-99318b91c0cb"
      },
      "source": [
        "## 37. 名詞の出現頻度\n",
        "コーパスにおける名詞の出現頻度を求め、出現頻度の高い20語とその出現頻度を表示せよ。"
      ]
    },
    {
      "cell_type": "code",
      "source": [
        "!unzip jawiki-country.json.gz"
      ],
      "metadata": {
        "id": "n8LaDxtU1r6C",
        "outputId": "d13ec6ef-d073-40af-8b17-650e2b559af7",
        "colab": {
          "base_uri": "https://localhost:8080/"
        }
      },
      "id": "n8LaDxtU1r6C",
      "execution_count": 21,
      "outputs": [
        {
          "output_type": "stream",
          "name": "stdout",
          "text": [
            "Archive:  jawiki-country.json.gz\n",
            "  End-of-central-directory signature not found.  Either this file is not\n",
            "  a zipfile, or it constitutes one disk of a multi-part archive.  In the\n",
            "  latter case the central directory and zipfile comment will be found on\n",
            "  the last disk(s) of this archive.\n",
            "unzip:  cannot find zipfile directory in one of jawiki-country.json.gz or\n",
            "        jawiki-country.json.gz.zip, and cannot find jawiki-country.json.gz.ZIP, period.\n"
          ]
        }
      ]
    },
    {
      "cell_type": "code",
      "source": [
        "!ls"
      ],
      "metadata": {
        "id": "qGWx2cuv1vSd",
        "outputId": "cb9422c0-af3a-4c6b-cbcd-4bdc41ba954d",
        "colab": {
          "base_uri": "https://localhost:8080/"
        }
      },
      "id": "qGWx2cuv1vSd",
      "execution_count": 22,
      "outputs": [
        {
          "output_type": "stream",
          "name": "stdout",
          "text": [
            "jawiki-country.json.gz\tsample_data\n"
          ]
        }
      ]
    },
    {
      "cell_type": "code",
      "source": [
        "import json\n",
        "from collections import Counter\n",
        "import MeCab\n",
        "\n",
        "# JSON形式のコーパスファイル（1行1記事）のパス\n",
        "corpus_file = \"jawiki-country.json.gz\"\n",
        "\n",
        "# MeCabの準備\n",
        "mecab = MeCab.Tagger(\"-r /etc/mecabrc -Ochasen\")\n",
        "\n",
        "# 名詞のカウンター\n",
        "noun_counter = Counter()\n",
        "\n",
        "# コーパスを1行ずつ読み込む\n",
        "with gzip.open(\"jawiki-country.json.gz\", \"rt\", encoding=\"utf-8\") as f:\n",
        "    for line in f:\n",
        "        article = json.loads(line)\n",
        "        text = article.get(\"text\", \"\")\n",
        "        text = clean_text(text)  # マークアップ除去\n",
        "        # 形態素解析\n",
        "        node = mecab.parseToNode(text)\n",
        "        while node:\n",
        "            features = node.feature.split(\",\")\n",
        "            if features[0] == \"名詞\":\n",
        "                noun = node.surface\n",
        "                if noun:  # 空文字列は除く\n",
        "                    noun_counter[noun] += 1\n",
        "            node = node.next\n",
        "\n",
        "# 出現頻度上位20語を表示\n",
        "for word, freq in noun_counter.most_common(20):\n",
        "    print(f\"{word}: {freq}\")"
      ],
      "metadata": {
        "id": "LJ0KscZV1cEs",
        "outputId": "4a487c3e-bd32-4f55-da4a-ee25eaefc318",
        "colab": {
          "base_uri": "https://localhost:8080/"
        }
      },
      "id": "LJ0KscZV1cEs",
      "execution_count": 26,
      "outputs": [
        {
          "output_type": "stream",
          "name": "stdout",
          "text": [
            "|: 33159\n",
            ".: 23042\n",
            "年: 22033\n",
            "=: 20381\n",
            "/: 15369\n",
            "-: 12181\n",
            "*: 9925\n",
            "月: 9815\n",
            "===: 9709\n",
            "日: 7807\n",
            "人: 7754\n",
            "1: 7673\n",
            "==: 6927\n",
            "国: 6677\n",
            "2: 6466\n",
            ",: 5432\n",
            "||: 5181\n",
            "%: 5000\n",
            "語: 4765\n",
            "://: 4745\n"
          ]
        }
      ]
    },
    {
      "cell_type": "markdown",
      "id": "8a64fda0-5ee3-48ad-9071-f37f805951d3",
      "metadata": {
        "id": "8a64fda0-5ee3-48ad-9071-f37f805951d3"
      },
      "source": [
        "## 38. TF・IDF\n",
        "日本に関する記事における名詞のTF・IDFスコアを求め、TF・IDFスコア上位20語とそのTF, IDF, TF・IDFを表示せよ。"
      ]
    },
    {
      "cell_type": "code",
      "source": [
        "import json\n",
        "import gzip\n",
        "import re\n",
        "import MeCab\n",
        "import math\n",
        "from collections import Counter, defaultdict\n",
        "\n",
        "\n",
        "def remove_markup(text):\n",
        "    # 強調マークアップの除去\n",
        "    text = re.sub(r\"\\'{2,5}\", \"\", text)\n",
        "    # 内部リンクの除去\n",
        "    text = re.sub(r\"\\[\\[(?:[^|\\]]*?\\|)??([^|\\]]+?)\\]\\]\", r\"\\1\", text)\n",
        "    # 外部リンクの除去\n",
        "    text = re.sub(r\"\\[http://[^\\]]+\\]\", \"\", text)\n",
        "    # HTMLタグの除去\n",
        "    text = re.sub(r\"<[^>]+>\", \"\", text)\n",
        "    # テンプレートの除去\n",
        "    text = re.sub(r\"\\{\\{.*?\\}\\}\", \"\", text)\n",
        "    return text\n",
        "\n",
        "\n",
        "def calculate_tfidf():\n",
        "    # MeCabの初期化\n",
        "    mecab = MeCab.Tagger(\"-r /etc/mecabrc -Ochasen\")\n",
        "\n",
        "    # 文書数をカウントするための変数\n",
        "    total_docs = 0\n",
        "    # 各名詞が出現する文書数をカウント\n",
        "    doc_freq = defaultdict(int)\n",
        "    # 日本に関する記事の名詞の出現頻度をカウント\n",
        "    japan_noun_freq = Counter()\n",
        "\n",
        "    # gzipファイルを読み込む\n",
        "    with gzip.open(\"jawiki-country.json.gz\", \"rt\", encoding=\"utf-8\") as f:\n",
        "        for line in f:\n",
        "            total_docs += 1\n",
        "            article = json.loads(line)\n",
        "            text = article[\"text\"]\n",
        "\n",
        "            # マークアップを除去\n",
        "            text = remove_markup(text)\n",
        "\n",
        "            # 形態素解析を行い、名詞をカウント\n",
        "            node = mecab.parseToNode(text)\n",
        "            # この文書で出現した名詞を記録\n",
        "            doc_nouns = set()\n",
        "            while node:\n",
        "                if node.feature.split(\",\")[0] == \"名詞\":\n",
        "                    noun = node.surface\n",
        "                    doc_nouns.add(noun)\n",
        "                    # 日本に関する記事の場合、出現頻度をカウント\n",
        "                    if article[\"title\"] == \"日本\":\n",
        "                        japan_noun_freq[noun] += 1\n",
        "                node = node.next\n",
        "            # 文書頻度を更新\n",
        "            for noun in doc_nouns:\n",
        "                doc_freq[noun] += 1\n",
        "\n",
        "    # TF-IDFスコアを計算\n",
        "    tfidf_scores = {}\n",
        "    for noun, tf in japan_noun_freq.items():\n",
        "        # IDFの計算\n",
        "        idf = math.log(total_docs / doc_freq[noun])\n",
        "        # TF-IDFスコアの計算\n",
        "        tfidf_scores[noun] = {\"tf\": tf, \"idf\": idf, \"tfidf\": tf * idf}\n",
        "\n",
        "    # TF-IDFスコアの高い順に20語を表示\n",
        "    for noun, scores in sorted(\n",
        "        tfidf_scores.items(), key=lambda x: x[1][\"tfidf\"], reverse=True\n",
        "    )[:20]:\n",
        "        print(f\"{noun}:\")\n",
        "        print(f\"  TF: {scores['tf']}\")\n",
        "        print(f\"  IDF: {scores['idf']:.4f}\")\n",
        "        print(f\"  TF-IDF: {scores['tfidf']:.4f}\")\n",
        "\n",
        "\n",
        "if __name__ == \"__main__\":\n",
        "    calculate_tfidf()"
      ],
      "metadata": {
        "id": "Dv_qXw9o2nM4",
        "outputId": "6ef01b59-d198-4aed-afdc-2852cb2bbcf3",
        "colab": {
          "base_uri": "https://localhost:8080/"
        }
      },
      "id": "Dv_qXw9o2nM4",
      "execution_count": 28,
      "outputs": [
        {
          "output_type": "stream",
          "name": "stdout",
          "text": [
            "琉球:\n",
            "  TF: 45\n",
            "  IDF: 4.4148\n",
            "  TF-IDF: 198.6667\n",
            "天皇:\n",
            "  TF: 67\n",
            "  IDF: 2.7408\n",
            "  TF-IDF: 183.6363\n",
            "倭国:\n",
            "  TF: 35\n",
            "  IDF: 4.8203\n",
            "  TF-IDF: 168.7099\n",
            "*「:\n",
            "  TF: 35\n",
            "  IDF: 4.8203\n",
            "  TF-IDF: 168.7099\n",
            "沖縄:\n",
            "  TF: 50\n",
            "  IDF: 2.8744\n",
            "  TF-IDF: 143.7186\n",
            "朝鮮:\n",
            "  TF: 51\n",
            "  IDF: 2.6231\n",
            "  TF-IDF: 133.7759\n",
            "倭:\n",
            "  TF: 32\n",
            "  IDF: 4.1271\n",
            "  TF-IDF: 132.0683\n",
            "列島:\n",
            "  TF: 42\n",
            "  IDF: 3.1155\n",
            "  TF-IDF: 130.8524\n",
            ":::\n",
            "  TF: 37\n",
            "  IDF: 3.4340\n",
            "  TF-IDF: 127.0575\n",
            "日本書紀:\n",
            "  TF: 22\n",
            "  IDF: 5.5134\n",
            "  TF-IDF: 121.2954\n",
            "**「:\n",
            "  TF: 20\n",
            "  IDF: 5.5134\n",
            "  TF-IDF: 110.2686\n",
            "北陸:\n",
            "  TF: 19\n",
            "  IDF: 5.5134\n",
            "  TF-IDF: 104.7551\n",
            "県:\n",
            "  TF: 171\n",
            "  IDF: 0.6082\n",
            "  TF-IDF: 103.9943\n",
            "明治:\n",
            "  TF: 38\n",
            "  IDF: 2.5690\n",
            "  TF-IDF: 97.6216\n",
            "北海道:\n",
            "  TF: 37\n",
            "  IDF: 2.6231\n",
            "  TF-IDF: 97.0531\n",
            "台湾:\n",
            "  TF: 62\n",
            "  IDF: 1.5431\n",
            "  TF-IDF: 95.6745\n",
            "日本:\n",
            "  TF: 788\n",
            "  IDF: 0.1198\n",
            "  TF-IDF: 94.4033\n",
            "奄美:\n",
            "  TF: 21\n",
            "  IDF: 4.4148\n",
            "  TF-IDF: 92.7111\n",
            "韓国:\n",
            "  TF: 57\n",
            "  IDF: 1.6014\n",
            "  TF-IDF: 91.2801\n",
            "唐:\n",
            "  TF: 28\n",
            "  IDF: 3.2108\n",
            "  TF-IDF: 89.9036\n"
          ]
        }
      ]
    },
    {
      "cell_type": "markdown",
      "id": "5f3b60e9-5d8e-4c2e-a68d-385c91713113",
      "metadata": {
        "id": "5f3b60e9-5d8e-4c2e-a68d-385c91713113"
      },
      "source": [
        "## 39. Zipfの法則\n",
        "コーパスにおける単語の出現頻度順位を横軸、その出現頻度を縦軸として、両対数グラフをプロットせよ。"
      ]
    }
  ],
  "metadata": {
    "colab": {
      "provenance": []
    },
    "kernelspec": {
      "display_name": "Python 3 (ipykernel)",
      "language": "python",
      "name": "python3"
    },
    "language_info": {
      "codemirror_mode": {
        "name": "ipython",
        "version": 3
      },
      "file_extension": ".py",
      "mimetype": "text/x-python",
      "name": "python",
      "nbconvert_exporter": "python",
      "pygments_lexer": "ipython3",
      "version": "3.12.3"
    }
  },
  "nbformat": 4,
  "nbformat_minor": 5
}