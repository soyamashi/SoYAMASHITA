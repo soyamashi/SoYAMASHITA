{
  "cells": [
    {
      "cell_type": "markdown",
      "id": "38daedde-589c-4cac-bf43-2b13485898cb",
      "metadata": {
        "editable": true,
        "id": "38daedde-589c-4cac-bf43-2b13485898cb",
        "tags": []
      },
      "source": [
        "# 第2章: UNIXコマンド\n",
        "\n",
        "[popular-names.txt](/data/popular-names.txt)は、アメリカで生まれた赤ちゃんの「名前」「性別」「人数」「年」をタブ区切り形式で格納したファイルである。以下の処理を行うプログラムを作成し、[popular-names.txt](/data/popular-names.txt)を入力ファイルとして実行せよ。さらに、同様の処理をUNIXコマンドでも実行し、プログラムの実行結果を確認せよ。"
      ]
    },
    {
      "cell_type": "code",
      "source": [
        "!wget https://github.com/soyamashi/SoYAMASHITA/blob/main/ja/common-names.txt"
      ],
      "metadata": {
        "id": "PvU9pqsC1WSs",
        "outputId": "d13892e9-3b10-44c3-edf8-9f550156b738",
        "colab": {
          "base_uri": "https://localhost:8080/"
        }
      },
      "id": "PvU9pqsC1WSs",
      "execution_count": 3,
      "outputs": [
        {
          "output_type": "stream",
          "name": "stdout",
          "text": [
            "--2025-07-13 09:59:41--  https://github.com/soyamashi/SoYAMASHITA/blob/main/ja/common-names.txt\n",
            "Resolving github.com (github.com)... 140.82.114.3\n",
            "Connecting to github.com (github.com)|140.82.114.3|:443... connected.\n",
            "HTTP request sent, awaiting response... 200 OK\n",
            "Length: unspecified [text/html]\n",
            "Saving to: ‘common-names.txt’\n",
            "\n",
            "\rcommon-names.txt        [<=>                 ]       0  --.-KB/s               \rcommon-names.txt        [ <=>                ] 204.59K  --.-KB/s    in 0.006s  \n",
            "\n",
            "2025-07-13 09:59:41 (34.4 MB/s) - ‘common-names.txt’ saved [209502]\n",
            "\n"
          ]
        }
      ]
    },
    {
      "cell_type": "markdown",
      "id": "d0cd8b46-ec72-459e-8cd4-285ac3601172",
      "metadata": {
        "editable": true,
        "id": "d0cd8b46-ec72-459e-8cd4-285ac3601172",
        "tags": []
      },
      "source": [
        "## 10. 行数のカウント\n",
        "ファイルの行数をカウントせよ。確認にはwcコマンドを用いよ。"
      ]
    },
    {
      "cell_type": "code",
      "source": [
        "with open('common-names.txt') as f:\n",
        "    print(len(f.readlines()))\n",
        "\n",
        "!wc -l common-names.txt"
      ],
      "metadata": {
        "id": "XP7a8UwJ2PSy",
        "outputId": "81bef97c-0510-4031-a601-cc8adb14dbf1",
        "colab": {
          "base_uri": "https://localhost:8080/",
          "height": 190
        }
      },
      "id": "XP7a8UwJ2PSy",
      "execution_count": 2,
      "outputs": [
        {
          "output_type": "error",
          "ename": "FileNotFoundError",
          "evalue": "[Errno 2] No such file or directory: 'common-names.txt'",
          "traceback": [
            "\u001b[0;31m---------------------------------------------------------------------------\u001b[0m",
            "\u001b[0;31mFileNotFoundError\u001b[0m                         Traceback (most recent call last)",
            "\u001b[0;32m/tmp/ipython-input-2-523268108.py\u001b[0m in \u001b[0;36m<cell line: 0>\u001b[0;34m()\u001b[0m\n\u001b[0;32m----> 1\u001b[0;31m \u001b[0;32mwith\u001b[0m \u001b[0mopen\u001b[0m\u001b[0;34m(\u001b[0m\u001b[0;34m'common-names.txt'\u001b[0m\u001b[0;34m)\u001b[0m \u001b[0;32mas\u001b[0m \u001b[0mf\u001b[0m\u001b[0;34m:\u001b[0m\u001b[0;34m\u001b[0m\u001b[0;34m\u001b[0m\u001b[0m\n\u001b[0m\u001b[1;32m      2\u001b[0m     \u001b[0mprint\u001b[0m\u001b[0;34m(\u001b[0m\u001b[0mlen\u001b[0m\u001b[0;34m(\u001b[0m\u001b[0mf\u001b[0m\u001b[0;34m.\u001b[0m\u001b[0mreadlines\u001b[0m\u001b[0;34m(\u001b[0m\u001b[0;34m)\u001b[0m\u001b[0;34m)\u001b[0m\u001b[0;34m)\u001b[0m\u001b[0;34m\u001b[0m\u001b[0;34m\u001b[0m\u001b[0m\n\u001b[1;32m      3\u001b[0m \u001b[0;34m\u001b[0m\u001b[0m\n\u001b[1;32m      4\u001b[0m \u001b[0mget_ipython\u001b[0m\u001b[0;34m(\u001b[0m\u001b[0;34m)\u001b[0m\u001b[0;34m.\u001b[0m\u001b[0msystem\u001b[0m\u001b[0;34m(\u001b[0m\u001b[0;34m'wc -l common-names.txt'\u001b[0m\u001b[0;34m)\u001b[0m\u001b[0;34m\u001b[0m\u001b[0;34m\u001b[0m\u001b[0m\n",
            "\u001b[0;31mFileNotFoundError\u001b[0m: [Errno 2] No such file or directory: 'common-names.txt'"
          ]
        }
      ]
    },
    {
      "cell_type": "markdown",
      "id": "275b8ac0-17a1-4df2-9287-efae1f0c6740",
      "metadata": {
        "id": "275b8ac0-17a1-4df2-9287-efae1f0c6740"
      },
      "source": [
        "## 11. 先頭からN行を出力\n",
        "ファイルの先頭N行だけを表示せよ。例えば、N=10として先頭10行を表示せよ。確認にはheadコマンドを用いよ。"
      ]
    },
    {
      "cell_type": "code",
      "source": [
        "\n",
        "with open('common-names.txt') as f:\n",
        "  for i in range(10):\n",
        "    print(f.readline())\n",
        "\n",
        "!head"
      ],
      "metadata": {
        "id": "z5JUgY3K3Gfj",
        "outputId": "623c9313-f4d8-441b-aa01-dfadd528c150",
        "colab": {
          "base_uri": "https://localhost:8080/"
        }
      },
      "id": "z5JUgY3K3Gfj",
      "execution_count": 4,
      "outputs": [
        {
          "output_type": "stream",
          "name": "stdout",
          "text": [
            "\n",
            "\n",
            "\n",
            "\n",
            "\n",
            "\n",
            "\n",
            "\n",
            "\n",
            "\n",
            "\n",
            "\n",
            "<!DOCTYPE html>\n",
            "\n",
            "<html\n",
            "\n",
            "  lang=\"en\"\n",
            "\n",
            "  \n",
            "\n"
          ]
        }
      ]
    },
    {
      "cell_type": "markdown",
      "id": "b7606710-56c9-4aea-90c8-48e57c3c73df",
      "metadata": {
        "id": "b7606710-56c9-4aea-90c8-48e57c3c73df"
      },
      "source": [
        "## 12. 末尾のN行を出力\n",
        "ファイルの末尾N行だけを表示せよ。例えば、N=10として末尾10行を表示せよ。確認にはtailコマンドを用いよ。"
      ]
    },
    {
      "cell_type": "code",
      "source": [
        "with open('common-names.txt') as f:\n",
        "  for line in f.readlines()[-10:]:\n",
        "    print(line)"
      ],
      "metadata": {
        "id": "mOMFDIVzOiJw",
        "outputId": "fa7574ad-9fe1-4e71-d13f-b9c383c37b5c",
        "colab": {
          "base_uri": "https://localhost:8080/"
        }
      },
      "id": "mOMFDIVzOiJw",
      "execution_count": 5,
      "outputs": [
        {
          "output_type": "stream",
          "name": "stdout",
          "text": [
            "\n",
            "\n",
            "\n",
            "\n",
            "\n",
            "\n",
            "\n",
            "\n",
            "    </div>\n",
            "\n",
            "    <div id=\"js-global-screen-reader-notice\" class=\"sr-only mt-n1\" aria-live=\"polite\" aria-atomic=\"true\" ></div>\n",
            "\n",
            "    <div id=\"js-global-screen-reader-notice-assertive\" class=\"sr-only mt-n1\" aria-live=\"assertive\" aria-atomic=\"true\"></div>\n",
            "\n",
            "  </body>\n",
            "\n",
            "</html>\n",
            "\n",
            "\n",
            "\n"
          ]
        }
      ]
    },
    {
      "cell_type": "markdown",
      "id": "6ce5a4f0-b73a-43a0-be8c-c78142882e5c",
      "metadata": {
        "id": "6ce5a4f0-b73a-43a0-be8c-c78142882e5c"
      },
      "source": [
        "## 13. タブをスペースに置換\n",
        "ファイルの先頭10行に対して、タブ1文字につきスペース1文字に置換して出力せよ。確認にはsedコマンド、trコマンド、もしくはexpandコマンドなどを用いよ。"
      ]
    },
    {
      "cell_type": "markdown",
      "id": "eaef4ffb-c436-41ab-a649-e4d5fd385a76",
      "metadata": {
        "id": "eaef4ffb-c436-41ab-a649-e4d5fd385a76"
      },
      "source": [
        "## 14. 1列目を出力\n",
        "ファイルの先頭10行に対して、各行の1列目だけを抜き出して表示せよ。確認にはcutコマンドなどを用いよ。"
      ]
    },
    {
      "cell_type": "markdown",
      "id": "00c76a76-98bc-4ccc-918d-459b8d7954cf",
      "metadata": {
        "id": "00c76a76-98bc-4ccc-918d-459b8d7954cf"
      },
      "source": [
        "## 15. ファイルをN分割する\n",
        "ファイルを行単位でN分割し、別のファイルに格納せよ。例えば、N=10としてファイルを10分割せよ。同様の処理をsplitコマンドで実現せよ。"
      ]
    },
    {
      "cell_type": "markdown",
      "id": "bc88859b-8a4d-4028-9aa4-684ab5ad9797",
      "metadata": {
        "id": "bc88859b-8a4d-4028-9aa4-684ab5ad9797"
      },
      "source": [
        "## 16. ランダムに各行を並び替える\n",
        "ファイルを行単位でランダムに並び替えよ（注意: 各行の内容は変更せずに並び替えよ）。同様の処理をshufコマンドで実現せよ。"
      ]
    },
    {
      "cell_type": "markdown",
      "id": "1041d23d-1a44-49c3-b95a-223fa9e3d3ae",
      "metadata": {
        "id": "1041d23d-1a44-49c3-b95a-223fa9e3d3ae"
      },
      "source": [
        "## 17. １列目の文字列の異なり\n",
        "1列目の文字列の異なり（文字列の種類）を求めよ。確認にはcut, sort, uniqコマンドを用いよ。"
      ]
    },
    {
      "cell_type": "markdown",
      "id": "3f5363e2-d751-40cc-958c-86d8b185089d",
      "metadata": {
        "id": "3f5363e2-d751-40cc-958c-86d8b185089d"
      },
      "source": [
        "## 18. 各行の1列目の文字列の出現頻度を求め、出現頻度の高い順に並べる\n",
        "1列目の文字列の出現頻度を求め、出現頻度と名前を出現頻度の多い順に並べて表示せよ。確認にはcut, uniq, sortコマンドを用いよ。"
      ]
    },
    {
      "cell_type": "markdown",
      "id": "5ea1c928-6748-4f02-9e65-2110655b30d8",
      "metadata": {
        "id": "5ea1c928-6748-4f02-9e65-2110655b30d8"
      },
      "source": [
        "## 19. 3列目の数値の降順に各行を並び替える\n",
        "3列目の数値の逆順でファイルの各行を整列せよ（注意: 各行の内容は変更せずに並び替えよ）。同様の処理をsortコマンドで実現せよ。"
      ]
    }
  ],
  "metadata": {
    "colab": {
      "provenance": []
    },
    "kernelspec": {
      "display_name": "Python 3 (ipykernel)",
      "language": "python",
      "name": "python3"
    },
    "language_info": {
      "codemirror_mode": {
        "name": "ipython",
        "version": 3
      },
      "file_extension": ".py",
      "mimetype": "text/x-python",
      "name": "python",
      "nbconvert_exporter": "python",
      "pygments_lexer": "ipython3",
      "version": "3.12.3"
    }
  },
  "nbformat": 4,
  "nbformat_minor": 5
}